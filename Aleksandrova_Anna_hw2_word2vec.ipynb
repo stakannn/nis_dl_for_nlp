{
  "cells": [
    {
      "cell_type": "code",
      "execution_count": 3,
      "metadata": {
        "id": "1qUm1VB6mNkf"
      },
      "outputs": [],
      "source": [
        "import json\n",
        "import random\n",
        "from tqdm import tqdm\n",
        "import numpy as np\n",
        "\n",
        "from matplotlib import pyplot as plt\n",
        "from sklearn.decomposition import TruncatedSVD\n",
        "from sklearn.manifold import TSNE\n",
        "\n",
        "import torch\n",
        "\n",
        "from pylab import rcParams\n",
        "rcParams['figure.figsize'] = 15, 15"
      ]
    },
    {
      "cell_type": "markdown",
      "metadata": {
        "id": "cqp_OyobmNkm"
      },
      "source": [
        "# Что делать?\n",
        "Где есть пометка # CODE писать код\n",
        "\n",
        "[Полезный туториал](http://jalammar.github.io/illustrated-word2vec/)"
      ]
    },
    {
      "cell_type": "markdown",
      "metadata": {
        "id": "S7M7ryrAmNko"
      },
      "source": [
        "# Загружаем данные\n",
        "Они уже обработанные и токенизированные. Процесс можно посмотреть в тетрадке 1.1 Processing corpus"
      ]
    },
    {
      "cell_type": "code",
      "execution_count": 4,
      "metadata": {
        "id": "_E8h-eFImNkp"
      },
      "outputs": [],
      "source": [
        "with open('processed_corpus.json') as f:\n",
        "    corpus = json.load(f)"
      ]
    },
    {
      "cell_type": "code",
      "execution_count": 5,
      "metadata": {
        "colab": {
          "base_uri": "https://localhost:8080/"
        },
        "id": "tHEUh4lomNkq",
        "outputId": "4b061d90-3f7b-41d4-9b0e-a51a9fa1b234"
      },
      "outputs": [
        {
          "output_type": "execute_result",
          "data": {
            "text/plain": [
              "100000"
            ]
          },
          "metadata": {},
          "execution_count": 5
        }
      ],
      "source": [
        "len(corpus)"
      ]
    },
    {
      "cell_type": "code",
      "execution_count": 6,
      "metadata": {
        "colab": {
          "base_uri": "https://localhost:8080/"
        },
        "id": "J_Ish3GimNks",
        "outputId": "4eef0253-9f2e-4f1f-de3b-eedcfc4b4fef"
      },
      "outputs": [
        {
          "output_type": "stream",
          "name": "stdout",
          "text": [
            "второй UNK год окончательно разочаровать решить податься альфабанк\n",
            "вернуть денежный средство лицевой счёт либо зачесть счёт погашение кредит\n",
            "притом ситуация решиться участие течение сутки заявить\n",
            "мой ##число летний жизнь это самый неповоротливый работник банк который видеть\n",
            "везде написать вклад принимать очередь это\n"
          ]
        }
      ],
      "source": [
        "for text in corpus[:5]:\n",
        "    print(' '.join(text))"
      ]
    },
    {
      "cell_type": "markdown",
      "metadata": {
        "id": "bRK0s1QfmNkt"
      },
      "source": [
        "# CBOW"
      ]
    },
    {
      "cell_type": "code",
      "execution_count": 7,
      "metadata": {
        "id": "AfcmOo0WmNku"
      },
      "outputs": [],
      "source": [
        "sample_text = corpus[4]"
      ]
    },
    {
      "cell_type": "code",
      "execution_count": 8,
      "metadata": {
        "colab": {
          "base_uri": "https://localhost:8080/",
          "height": 35
        },
        "id": "jmLXiZX0mNku",
        "outputId": "fd544018-bc6f-4942-a4be-2eddd1e2c105"
      },
      "outputs": [
        {
          "output_type": "execute_result",
          "data": {
            "text/plain": [
              "'везде написать вклад принимать очередь это'"
            ],
            "application/vnd.google.colaboratory.intrinsic+json": {
              "type": "string"
            }
          },
          "metadata": {},
          "execution_count": 8
        }
      ],
      "source": [
        "' '.join(sample_text)"
      ]
    },
    {
      "cell_type": "markdown",
      "metadata": {
        "id": "cnleiSWdmNkv"
      },
      "source": [
        "# Реализуйте разделение предложения на примеры методом CBOW"
      ]
    },
    {
      "cell_type": "code",
      "execution_count": 9,
      "metadata": {
        "id": "YU6iNPoNmNkw"
      },
      "outputs": [],
      "source": [
        "def cbow_split(tokens, window, pad_token='PAD'):\n",
        "\n",
        "    splits = []\n",
        "    pads = [pad_token for i in range(window)]\n",
        "    tokens = pads + tokens + pads\n",
        "\n",
        "    for i in range(window, len(tokens)-window):\n",
        "      left_context = [tokens[j] for j in range(i-window, i)]\n",
        "      right_context = [tokens[j] for j in range(i+1, i+window+1)]\n",
        "      split = left_context, tokens[i], right_context\n",
        "      splits.append(split)\n",
        "\n",
        "    return splits"
      ]
    },
    {
      "cell_type": "code",
      "execution_count": 10,
      "metadata": {
        "id": "ELqilFx-mNkw"
      },
      "outputs": [],
      "source": [
        "splits = cbow_split(sample_text, window=2)"
      ]
    },
    {
      "cell_type": "code",
      "execution_count": 11,
      "metadata": {
        "colab": {
          "base_uri": "https://localhost:8080/"
        },
        "id": "0fjXvBr_mNkx",
        "outputId": "1cb8cc02-f6ef-4396-c347-6cdc96f76cf5"
      },
      "outputs": [
        {
          "output_type": "stream",
          "name": "stdout",
          "text": [
            "Левый контекст: ['PAD', 'PAD']\n",
            "Центральное слово: везде\n",
            "Правый контекст: ['написать', 'вклад']\n",
            "\n",
            "Левый контекст: ['PAD', 'везде']\n",
            "Центральное слово: написать\n",
            "Правый контекст: ['вклад', 'принимать']\n",
            "\n",
            "Левый контекст: ['везде', 'написать']\n",
            "Центральное слово: вклад\n",
            "Правый контекст: ['принимать', 'очередь']\n",
            "\n",
            "Левый контекст: ['написать', 'вклад']\n",
            "Центральное слово: принимать\n",
            "Правый контекст: ['очередь', 'это']\n",
            "\n",
            "Левый контекст: ['вклад', 'принимать']\n",
            "Центральное слово: очередь\n",
            "Правый контекст: ['это', 'PAD']\n",
            "\n",
            "Левый контекст: ['принимать', 'очередь']\n",
            "Центральное слово: это\n",
            "Правый контекст: ['PAD', 'PAD']\n",
            "\n"
          ]
        }
      ],
      "source": [
        "for sample in splits:\n",
        "    print('Левый контекст:', sample[0])\n",
        "    print('Центральное слово:', sample[1])\n",
        "    print('Правый контекст:', sample[2], end='\\n\\n')"
      ]
    },
    {
      "cell_type": "code",
      "execution_count": 12,
      "metadata": {
        "colab": {
          "base_uri": "https://localhost:8080/"
        },
        "id": "Z3Rs7gHumNky",
        "outputId": "c1fc3cd3-be05-465e-c8a1-a15448716eaf"
      },
      "outputs": [
        {
          "output_type": "execute_result",
          "data": {
            "text/plain": [
              "[(['PAD', 'PAD'], 'везде', ['написать', 'вклад']),\n",
              " (['PAD', 'везде'], 'написать', ['вклад', 'принимать']),\n",
              " (['везде', 'написать'], 'вклад', ['принимать', 'очередь']),\n",
              " (['написать', 'вклад'], 'принимать', ['очередь', 'это']),\n",
              " (['вклад', 'принимать'], 'очередь', ['это', 'PAD']),\n",
              " (['принимать', 'очередь'], 'это', ['PAD', 'PAD'])]"
            ]
          },
          "metadata": {},
          "execution_count": 12
        }
      ],
      "source": [
        "splits"
      ]
    },
    {
      "cell_type": "markdown",
      "metadata": {
        "id": "v2D5PS5imNky"
      },
      "source": [
        "# Expected\n",
        "\n",
        "```python\n",
        "[(['PAD', 'PAD'], 'вопрос', ['почему', 'например']),\n",
        " (['PAD', 'вопрос'], 'почему', ['например', 'китайский']),\n",
        " (['вопрос', 'почему'], 'например', ['китайский', 'японский']),\n",
        " (['почему', 'например'], 'китайский', ['японский', 'UNK']),\n",
        " (['например', 'китайский'], 'японский', ['UNK', 'PAD']),\n",
        " (['китайский', 'японский'], 'UNK', ['PAD', 'PAD'])]\n",
        "```"
      ]
    },
    {
      "cell_type": "code",
      "execution_count": 13,
      "metadata": {
        "colab": {
          "base_uri": "https://localhost:8080/"
        },
        "id": "V3D5_75NmNkz",
        "outputId": "1d2e0a1c-3d3c-470a-9392-f78d717de665"
      },
      "outputs": [
        {
          "output_type": "execute_result",
          "data": {
            "text/plain": [
              "[(['PAD', 'PAD', 'PAD'], 'везде', ['написать', 'вклад', 'принимать']),\n",
              " (['PAD', 'PAD', 'везде'], 'написать', ['вклад', 'принимать', 'очередь']),\n",
              " (['PAD', 'везде', 'написать'], 'вклад', ['принимать', 'очередь', 'это']),\n",
              " (['везде', 'написать', 'вклад'], 'принимать', ['очередь', 'это', 'PAD']),\n",
              " (['написать', 'вклад', 'принимать'], 'очередь', ['это', 'PAD', 'PAD']),\n",
              " (['вклад', 'принимать', 'очередь'], 'это', ['PAD', 'PAD', 'PAD'])]"
            ]
          },
          "metadata": {},
          "execution_count": 13
        }
      ],
      "source": [
        "cbow_split(sample_text, window=3)"
      ]
    },
    {
      "cell_type": "markdown",
      "metadata": {
        "id": "ampmPVCmmNkz"
      },
      "source": [
        "# Expected\n",
        "\n",
        "```python\n",
        "[(['PAD', 'PAD', 'PAD'], 'вопрос', ['почему', 'например', 'китайский']),\n",
        " (['PAD', 'PAD', 'вопрос'], 'почему', ['например', 'китайский', 'японский']),\n",
        " (['PAD', 'вопрос', 'почему'], 'например', ['китайский', 'японский', 'UNK']),\n",
        " (['вопрос', 'почему', 'например'], 'китайский', ['японский', 'UNK', 'PAD']),\n",
        " (['почему', 'например', 'китайский'], 'японский', ['UNK', 'PAD', 'PAD']),\n",
        " (['например', 'китайский', 'японский'], 'UNK', ['PAD', 'PAD', 'PAD'])]\n",
        "```"
      ]
    },
    {
      "cell_type": "markdown",
      "metadata": {
        "id": "Fr3q0nIkmNk0"
      },
      "source": [
        "# Skipgram"
      ]
    },
    {
      "cell_type": "code",
      "execution_count": 14,
      "metadata": {
        "colab": {
          "base_uri": "https://localhost:8080/",
          "height": 35
        },
        "id": "S0Lzy0W5mNk0",
        "outputId": "58771d18-3336-4a31-e92d-11165d412a22"
      },
      "outputs": [
        {
          "output_type": "execute_result",
          "data": {
            "text/plain": [
              "'везде написать вклад принимать очередь это'"
            ],
            "application/vnd.google.colaboratory.intrinsic+json": {
              "type": "string"
            }
          },
          "metadata": {},
          "execution_count": 14
        }
      ],
      "source": [
        "' '.join(sample_text)"
      ]
    },
    {
      "cell_type": "markdown",
      "metadata": {
        "id": "hbvLs4VWmNk0"
      },
      "source": [
        "# Реализуйте разделение предложения на примеры методом Skipgram"
      ]
    },
    {
      "cell_type": "code",
      "execution_count": 15,
      "metadata": {
        "id": "1-P_Qeo9mNk1"
      },
      "outputs": [],
      "source": [
        "def skipgram_split(tokens, window):\n",
        "\n",
        "    splits = []\n",
        "    pads = [None for i in range(window)]\n",
        "    tokens = pads + tokens + pads\n",
        "\n",
        "    for i in range(window, len(tokens)-window):\n",
        "      for j in range(i-window, i+window+1):\n",
        "        if tokens[i] != tokens[j] and tokens[j] != None:\n",
        "          split = tokens[j], tokens[i]\n",
        "          splits.append(split)\n",
        "    return splits"
      ]
    },
    {
      "cell_type": "code",
      "execution_count": 16,
      "metadata": {
        "id": "2pC_7YICmNk1"
      },
      "outputs": [],
      "source": [
        "splits = skipgram_split(sample_text, window=2)"
      ]
    },
    {
      "cell_type": "code",
      "execution_count": 17,
      "metadata": {
        "colab": {
          "base_uri": "https://localhost:8080/"
        },
        "id": "ydc6JrAtmNk1",
        "outputId": "03d07161-4281-49f5-a83e-38d865ab3baa"
      },
      "outputs": [
        {
          "output_type": "stream",
          "name": "stdout",
          "text": [
            "Контекст: написать\n",
            "Центральное слово: везде\n",
            "\n",
            "Контекст: вклад\n",
            "Центральное слово: везде\n",
            "\n",
            "Контекст: везде\n",
            "Центральное слово: написать\n",
            "\n",
            "Контекст: вклад\n",
            "Центральное слово: написать\n",
            "\n",
            "Контекст: принимать\n",
            "Центральное слово: написать\n",
            "\n",
            "Контекст: везде\n",
            "Центральное слово: вклад\n",
            "\n",
            "Контекст: написать\n",
            "Центральное слово: вклад\n",
            "\n",
            "Контекст: принимать\n",
            "Центральное слово: вклад\n",
            "\n",
            "Контекст: очередь\n",
            "Центральное слово: вклад\n",
            "\n",
            "Контекст: написать\n",
            "Центральное слово: принимать\n",
            "\n",
            "Контекст: вклад\n",
            "Центральное слово: принимать\n",
            "\n",
            "Контекст: очередь\n",
            "Центральное слово: принимать\n",
            "\n",
            "Контекст: это\n",
            "Центральное слово: принимать\n",
            "\n",
            "Контекст: вклад\n",
            "Центральное слово: очередь\n",
            "\n",
            "Контекст: принимать\n",
            "Центральное слово: очередь\n",
            "\n",
            "Контекст: это\n",
            "Центральное слово: очередь\n",
            "\n",
            "Контекст: принимать\n",
            "Центральное слово: это\n",
            "\n",
            "Контекст: очередь\n",
            "Центральное слово: это\n",
            "\n"
          ]
        }
      ],
      "source": [
        "for sample in splits:\n",
        "    print('Контекст:', sample[0])\n",
        "    print('Центральное слово:', sample[1], end='\\n\\n')"
      ]
    },
    {
      "cell_type": "code",
      "execution_count": 18,
      "metadata": {
        "colab": {
          "base_uri": "https://localhost:8080/"
        },
        "id": "jBGqE7hnmNk1",
        "outputId": "5551fb44-d89b-4e04-f534-c2493552861d"
      },
      "outputs": [
        {
          "output_type": "execute_result",
          "data": {
            "text/plain": [
              "[('написать', 'везде'),\n",
              " ('вклад', 'везде'),\n",
              " ('везде', 'написать'),\n",
              " ('вклад', 'написать'),\n",
              " ('принимать', 'написать'),\n",
              " ('везде', 'вклад'),\n",
              " ('написать', 'вклад'),\n",
              " ('принимать', 'вклад'),\n",
              " ('очередь', 'вклад'),\n",
              " ('написать', 'принимать'),\n",
              " ('вклад', 'принимать'),\n",
              " ('очередь', 'принимать'),\n",
              " ('это', 'принимать'),\n",
              " ('вклад', 'очередь'),\n",
              " ('принимать', 'очередь'),\n",
              " ('это', 'очередь'),\n",
              " ('принимать', 'это'),\n",
              " ('очередь', 'это')]"
            ]
          },
          "metadata": {},
          "execution_count": 18
        }
      ],
      "source": [
        "skipgram_split(sample_text, window=2)"
      ]
    },
    {
      "cell_type": "markdown",
      "metadata": {
        "id": "ZQNkiAHMmNk2"
      },
      "source": [
        "# Expected\n",
        "\n",
        "```python\n",
        "[('почему', 'вопрос'),\n",
        " ('например', 'вопрос'),\n",
        " ('вопрос', 'почему'),\n",
        " ('например', 'почему'),\n",
        " ('китайский', 'почему'),\n",
        " ('вопрос', 'например'),\n",
        " ('почему', 'например'),\n",
        " ('китайский', 'например'),\n",
        " ('японский', 'например'),\n",
        " ('почему', 'китайский'),\n",
        " ('например', 'китайский'),\n",
        " ('японский', 'китайский'),\n",
        " ('UNK', 'китайский'),\n",
        " ('например', 'японский'),\n",
        " ('китайский', 'японский'),\n",
        " ('UNK', 'японский'),\n",
        " ('китайский', 'UNK'),\n",
        " ('японский', 'UNK')]\n",
        "```"
      ]
    },
    {
      "cell_type": "code",
      "execution_count": 19,
      "metadata": {
        "colab": {
          "base_uri": "https://localhost:8080/"
        },
        "id": "_gK4bt-pmNk2",
        "outputId": "02a20f92-fe96-4aa0-b479-3bb908009dff"
      },
      "outputs": [
        {
          "output_type": "execute_result",
          "data": {
            "text/plain": [
              "[('написать', 'везде'),\n",
              " ('вклад', 'везде'),\n",
              " ('принимать', 'везде'),\n",
              " ('везде', 'написать'),\n",
              " ('вклад', 'написать'),\n",
              " ('принимать', 'написать'),\n",
              " ('очередь', 'написать'),\n",
              " ('везде', 'вклад'),\n",
              " ('написать', 'вклад'),\n",
              " ('принимать', 'вклад'),\n",
              " ('очередь', 'вклад'),\n",
              " ('это', 'вклад'),\n",
              " ('везде', 'принимать'),\n",
              " ('написать', 'принимать'),\n",
              " ('вклад', 'принимать'),\n",
              " ('очередь', 'принимать'),\n",
              " ('это', 'принимать'),\n",
              " ('написать', 'очередь'),\n",
              " ('вклад', 'очередь'),\n",
              " ('принимать', 'очередь'),\n",
              " ('это', 'очередь'),\n",
              " ('вклад', 'это'),\n",
              " ('принимать', 'это'),\n",
              " ('очередь', 'это')]"
            ]
          },
          "metadata": {},
          "execution_count": 19
        }
      ],
      "source": [
        "skipgram_split(sample_text, window=3)"
      ]
    },
    {
      "cell_type": "markdown",
      "metadata": {
        "id": "1bfVXiinmNk2"
      },
      "source": [
        "# Expected\n",
        "\n",
        "```python\n",
        "[('почему', 'вопрос'),\n",
        " ('например', 'вопрос'),\n",
        " ('китайский', 'вопрос'),\n",
        " ('вопрос', 'почему'),\n",
        " ('например', 'почему'),\n",
        " ('китайский', 'почему'),\n",
        " ('японский', 'почему'),\n",
        " ('вопрос', 'например'),\n",
        " ('почему', 'например'),\n",
        " ('китайский', 'например'),\n",
        " ('японский', 'например'),\n",
        " ('UNK', 'например'),\n",
        " ('вопрос', 'китайский'),\n",
        " ('почему', 'китайский'),\n",
        " ('например', 'китайский'),\n",
        " ('японский', 'китайский'),\n",
        " ('UNK', 'китайский'),\n",
        " ('почему', 'японский'),\n",
        " ('например', 'японский'),\n",
        " ('китайский', 'японский'),\n",
        " ('UNK', 'японский'),\n",
        " ('например', 'UNK'),\n",
        " ('китайский', 'UNK'),\n",
        " ('японский', 'UNK')]\n",
        "```"
      ]
    },
    {
      "cell_type": "code",
      "execution_count": 20,
      "metadata": {
        "id": "SOtjWu8amNk3"
      },
      "outputs": [],
      "source": [
        "word2index = {}\n",
        "\n",
        "for text in corpus:\n",
        "    for token in text:\n",
        "        if token not in word2index:\n",
        "            word2index[token] = len(word2index)"
      ]
    },
    {
      "cell_type": "code",
      "execution_count": 21,
      "metadata": {
        "colab": {
          "base_uri": "https://localhost:8080/"
        },
        "id": "SUE8EymzmNk3",
        "outputId": "952afd7b-8d43-42db-d81e-40b35b9de0a4"
      },
      "outputs": [
        {
          "output_type": "execute_result",
          "data": {
            "text/plain": [
              "13076"
            ]
          },
          "metadata": {},
          "execution_count": 21
        }
      ],
      "source": [
        "len(word2index)"
      ]
    },
    {
      "cell_type": "code",
      "execution_count": 22,
      "metadata": {
        "colab": {
          "base_uri": "https://localhost:8080/"
        },
        "id": "GhS6ZG_RjKnl",
        "outputId": "914f2607-26df-4305-b7aa-26b97e6d217c"
      },
      "outputs": [
        {
          "output_type": "execute_result",
          "data": {
            "text/plain": [
              "[('второй', 0),\n",
              " ('UNK', 1),\n",
              " ('год', 2),\n",
              " ('окончательно', 3),\n",
              " ('разочаровать', 4),\n",
              " ('решить', 5),\n",
              " ('податься', 6),\n",
              " ('альфабанк', 7),\n",
              " ('вернуть', 8),\n",
              " ('денежный', 9)]"
            ]
          },
          "metadata": {},
          "execution_count": 22
        }
      ],
      "source": [
        "list(word2index.items())[:10]"
      ]
    },
    {
      "cell_type": "code",
      "execution_count": 23,
      "metadata": {
        "colab": {
          "base_uri": "https://localhost:8080/"
        },
        "id": "OQsDTZn-mNk3",
        "outputId": "e9a1fcd7-7119-4f8c-d8d6-d6f04b9bf625"
      },
      "outputs": [
        {
          "output_type": "execute_result",
          "data": {
            "text/plain": [
              "1"
            ]
          },
          "metadata": {},
          "execution_count": 23
        }
      ],
      "source": [
        "word2index['UNK']"
      ]
    },
    {
      "cell_type": "code",
      "execution_count": 24,
      "metadata": {
        "colab": {
          "base_uri": "https://localhost:8080/"
        },
        "id": "tHl0xIyCmNk4",
        "outputId": "f1af3c8d-e541-41ae-ea06-b54668b01f17"
      },
      "outputs": [
        {
          "output_type": "execute_result",
          "data": {
            "text/plain": [
              "[['мама', 1282], ['мыть', 8436], ['рама', 1]]"
            ]
          },
          "metadata": {},
          "execution_count": 24
        }
      ],
      "source": [
        "[[tok, word2index[tok]] if tok in word2index else [tok, word2index['UNK']] for tok in 'мама мыть рама'.split()]"
      ]
    },
    {
      "cell_type": "markdown",
      "metadata": {
        "id": "9fsOjF8YmNk4"
      },
      "source": [
        "# Torch Dataset\n",
        "В торче есть очень удобная читалка данных"
      ]
    },
    {
      "cell_type": "code",
      "execution_count": 25,
      "metadata": {
        "id": "UHrnzL86mNk4"
      },
      "outputs": [],
      "source": [
        "from torch.utils.data import Dataset, DataLoader"
      ]
    },
    {
      "cell_type": "code",
      "execution_count": 26,
      "metadata": {
        "id": "BBF7lydXmNk5"
      },
      "outputs": [],
      "source": [
        "# игрушечный датасет\n",
        "# 121535 примера, 4 фичи, 3 класса\n",
        "some_data_x = np.random.rand(121535, 4)\n",
        "some_data_y = np.random.randint(3, size=(121535,))"
      ]
    },
    {
      "cell_type": "code",
      "execution_count": 27,
      "metadata": {
        "colab": {
          "base_uri": "https://localhost:8080/"
        },
        "id": "-mMc8wEImNk5",
        "outputId": "b41aa1da-78ad-43a6-c5eb-a420e0e3ca0a"
      },
      "outputs": [
        {
          "output_type": "execute_result",
          "data": {
            "text/plain": [
              "array([[0.31816964, 0.3057791 , 0.62592596, 0.93030809],\n",
              "       [0.40546457, 0.01697454, 0.07878033, 0.09696794],\n",
              "       [0.9758825 , 0.43548661, 0.05139241, 0.00106674],\n",
              "       [0.26030319, 0.19642709, 0.10483636, 0.49524398],\n",
              "       [0.63032227, 0.15815667, 0.42741139, 0.82762031],\n",
              "       [0.20202072, 0.6898222 , 0.77309442, 0.82712883],\n",
              "       [0.97824252, 0.63661239, 0.90740791, 0.72862704],\n",
              "       [0.59272919, 0.19771172, 0.22572047, 0.65986487],\n",
              "       [0.29587644, 0.68315211, 0.55939644, 0.88893191],\n",
              "       [0.84498012, 0.0433961 , 0.15325847, 0.13779892]])"
            ]
          },
          "metadata": {},
          "execution_count": 27
        }
      ],
      "source": [
        "# соверешенно игрушечный, просто цифры\n",
        "some_data_x[:10]"
      ]
    },
    {
      "cell_type": "code",
      "execution_count": 28,
      "metadata": {
        "colab": {
          "base_uri": "https://localhost:8080/"
        },
        "id": "a5iS-l4WmNk5",
        "outputId": "e4437bab-27b1-4a5d-a7de-d5005c1a3964"
      },
      "outputs": [
        {
          "output_type": "execute_result",
          "data": {
            "text/plain": [
              "array([1, 1, 1, ..., 1, 1, 1])"
            ]
          },
          "metadata": {},
          "execution_count": 28
        }
      ],
      "source": [
        "some_data_y"
      ]
    },
    {
      "cell_type": "code",
      "execution_count": 29,
      "metadata": {
        "id": "EcyHZ_HzmNk5"
      },
      "outputs": [],
      "source": [
        "class ToyDataset(Dataset):\n",
        "\n",
        "    def __init__(self, data_x, data_y):\n",
        "\n",
        "        super().__init__()\n",
        "\n",
        "        self.data_x = data_x\n",
        "        self.data_y = data_y\n",
        "\n",
        "    def __len__(self):\n",
        "\n",
        "        # Нужно обязательно определить эту функцию\n",
        "        # Должна возвращать размер датасета\n",
        "\n",
        "        return len(self.data_x)\n",
        "\n",
        "    def __getitem__(self, idx):\n",
        "\n",
        "        # Еще нужно определить этот метод\n",
        "        # То есть как мы будем доставать наши данные по индексу\n",
        "\n",
        "        return self.data_x[idx], self.data_y[idx]"
      ]
    },
    {
      "cell_type": "code",
      "execution_count": 30,
      "metadata": {
        "id": "shG1KPp6mNk6"
      },
      "outputs": [],
      "source": [
        "some_dataset = ToyDataset(some_data_x, some_data_y)"
      ]
    },
    {
      "cell_type": "code",
      "execution_count": 31,
      "metadata": {
        "colab": {
          "base_uri": "https://localhost:8080/"
        },
        "id": "CObvo45QmNk6",
        "outputId": "8eb371b8-792d-447c-8dab-c1035dae99b4"
      },
      "outputs": [
        {
          "output_type": "execute_result",
          "data": {
            "text/plain": [
              "((array([0.20202072, 0.6898222 , 0.77309442, 0.82712883]), 1),\n",
              " (array([0.6560108 , 0.29834566, 0.25998966, 0.2676709 ]), 1))"
            ]
          },
          "metadata": {},
          "execution_count": 31
        }
      ],
      "source": [
        "some_dataset[5], some_dataset[467]"
      ]
    },
    {
      "cell_type": "code",
      "execution_count": 32,
      "metadata": {
        "id": "drkZPOR7mNlL"
      },
      "outputs": [],
      "source": [
        "some_loader = DataLoader(some_dataset, batch_size=16, shuffle=True)"
      ]
    },
    {
      "cell_type": "code",
      "execution_count": 33,
      "metadata": {
        "colab": {
          "base_uri": "https://localhost:8080/"
        },
        "id": "k8OJ3sCOmNlL",
        "outputId": "fa702de6-7bb2-4246-e0a8-2edc20c6ba1e"
      },
      "outputs": [
        {
          "output_type": "execute_result",
          "data": {
            "text/plain": [
              "(16,\n",
              " tensor([[0.4531, 0.3602, 0.7850, 0.5419],\n",
              "         [0.6930, 0.0231, 0.8960, 0.3549],\n",
              "         [0.2421, 0.1193, 0.1557, 0.3726],\n",
              "         [0.8894, 0.3310, 0.5407, 0.5745],\n",
              "         [0.8992, 0.9009, 0.4114, 0.4818],\n",
              "         [0.1020, 0.5652, 0.7396, 0.0666],\n",
              "         [0.8300, 0.4793, 0.4623, 0.3734],\n",
              "         [0.9330, 0.7750, 0.6072, 0.7111],\n",
              "         [0.4410, 0.1994, 0.5917, 0.2410],\n",
              "         [0.5176, 0.0637, 0.9656, 0.5241],\n",
              "         [0.0495, 0.2013, 0.3269, 0.4747],\n",
              "         [0.2222, 0.5069, 0.1897, 0.3388],\n",
              "         [0.7931, 0.3734, 0.1013, 0.8586],\n",
              "         [0.8102, 0.0011, 0.4942, 0.3204],\n",
              "         [0.3106, 0.0585, 0.4687, 0.7838],\n",
              "         [0.4977, 0.0676, 0.9319, 0.5024]], dtype=torch.float64))"
            ]
          },
          "metadata": {},
          "execution_count": 33
        }
      ],
      "source": [
        "for x, y in some_loader:\n",
        "    break\n",
        "\n",
        "len(x), x"
      ]
    },
    {
      "cell_type": "code",
      "execution_count": 34,
      "metadata": {
        "colab": {
          "base_uri": "https://localhost:8080/"
        },
        "id": "XHH_TIU5yy3C",
        "outputId": "e1349d34-d4ba-45ab-ba30-fb991e5f18fc"
      },
      "outputs": [
        {
          "output_type": "execute_result",
          "data": {
            "text/plain": [
              "16"
            ]
          },
          "metadata": {},
          "execution_count": 34
        }
      ],
      "source": [
        "for x, y in some_loader:\n",
        "  break\n",
        "\n",
        "len(x)"
      ]
    },
    {
      "cell_type": "code",
      "execution_count": 35,
      "metadata": {
        "colab": {
          "base_uri": "https://localhost:8080/"
        },
        "id": "2R_DVTSimNlL",
        "outputId": "5410c7f0-4323-49ab-d15b-c999a72d92a6"
      },
      "outputs": [
        {
          "output_type": "execute_result",
          "data": {
            "text/plain": [
              "15"
            ]
          },
          "metadata": {},
          "execution_count": 35
        }
      ],
      "source": [
        "for x, y in some_loader:\n",
        "    pass\n",
        "\n",
        "len(x)"
      ]
    },
    {
      "cell_type": "code",
      "execution_count": 36,
      "metadata": {
        "colab": {
          "base_uri": "https://localhost:8080/"
        },
        "id": "9mM2I7CWmNlM",
        "outputId": "ae583241-cc87-4a96-c1b8-86058f3f8620"
      },
      "outputs": [
        {
          "output_type": "execute_result",
          "data": {
            "text/plain": [
              "15"
            ]
          },
          "metadata": {},
          "execution_count": 36
        }
      ],
      "source": [
        "# почему 13?\n",
        "# потому что количество наших данных нацело не делится на 16\n",
        "# и поэтому последний батч меньше 16-ти\n",
        "len(some_dataset) % 16"
      ]
    },
    {
      "cell_type": "markdown",
      "metadata": {
        "id": "UtRjSKW2mNlM"
      },
      "source": [
        "# А зачем?"
      ]
    },
    {
      "cell_type": "code",
      "execution_count": 37,
      "metadata": {
        "id": "0Pg5pV69mNlM"
      },
      "outputs": [],
      "source": [
        "class ToyDataset(Dataset):\n",
        "\n",
        "    def __init__(self, data_x, data_y):\n",
        "\n",
        "        super().__init__()\n",
        "\n",
        "        self.data_x = data_x\n",
        "        self.data_y = data_y\n",
        "\n",
        "    def __len__(self):\n",
        "\n",
        "        # Нужно обязательно определить эту функцию\n",
        "        # Должна возвращать размер датасета\n",
        "\n",
        "        return len(self.data_x)\n",
        "\n",
        "    @staticmethod\n",
        "    def add_pow_features(x, n=2):\n",
        "\n",
        "        return np.concatenate([x, x ** n])\n",
        "\n",
        "    @staticmethod\n",
        "    def add_log_features(x):\n",
        "\n",
        "        return np.concatenate([x, np.log(x)])\n",
        "\n",
        "    def __getitem__(self, idx):\n",
        "\n",
        "        # Еще нужно определить этот метод\n",
        "        # То есть как мы будем доставать наши данные по индексу\n",
        "\n",
        "        x = self.data_x[idx]\n",
        "\n",
        "        # внутри датасета мы можем делать все что угодно с нашими данными\n",
        "        # например выше определим функции, которые добавляют степенные фичи\n",
        "        x = self.add_pow_features(x, n=2)\n",
        "        x = self.add_pow_features(x, n=3)\n",
        "        # и еще возьмем логарифмические фичи\n",
        "        x = self.add_log_features(x)\n",
        "\n",
        "        y = self.data_y[idx]\n",
        "\n",
        "        return x, y"
      ]
    },
    {
      "cell_type": "code",
      "execution_count": 38,
      "metadata": {
        "id": "amzjPKtPmNlN"
      },
      "outputs": [],
      "source": [
        "toy_dataset = ToyDataset(some_data_x, some_data_y)"
      ]
    },
    {
      "cell_type": "code",
      "execution_count": 39,
      "metadata": {
        "id": "UIwq1jnymNlN"
      },
      "outputs": [],
      "source": [
        "toy_loader = DataLoader(dataset=toy_dataset, batch_size=128)"
      ]
    },
    {
      "cell_type": "code",
      "execution_count": 40,
      "metadata": {
        "colab": {
          "base_uri": "https://localhost:8080/"
        },
        "id": "x0wnIcrimNlN",
        "outputId": "cda54444-d450-41b9-f6d0-dca7b2ef4852"
      },
      "outputs": [
        {
          "output_type": "execute_result",
          "data": {
            "text/plain": [
              "(128,\n",
              " tensor([[ 3.1817e-01,  3.0578e-01,  6.2593e-01,  ..., -7.1094e+00,\n",
              "          -2.8111e+00, -4.3344e-01],\n",
              "         [ 4.0546e-01,  1.6975e-02,  7.8780e-02,  ..., -2.4456e+01,\n",
              "          -1.5247e+01, -1.4000e+01],\n",
              "         [ 9.7588e-01,  4.3549e-01,  5.1392e-02,  ..., -4.9877e+00,\n",
              "          -1.7810e+01, -4.1059e+01],\n",
              "         ...,\n",
              "         [ 6.4274e-01,  8.9664e-01,  3.1847e-01,  ..., -6.5458e-01,\n",
              "          -6.8654e+00, -2.9750e+00],\n",
              "         [ 7.4317e-01,  6.8783e-01,  7.6082e-01,  ..., -2.2453e+00,\n",
              "          -1.6402e+00, -1.1454e+00],\n",
              "         [ 4.0077e-01,  9.9146e-01,  3.0127e-01,  ..., -5.1449e-02,\n",
              "          -7.1986e+00, -4.3329e+00]], dtype=torch.float64))"
            ]
          },
          "metadata": {},
          "execution_count": 40
        }
      ],
      "source": [
        "for x, y in toy_loader:\n",
        "    break\n",
        "\n",
        "len(x), x"
      ]
    },
    {
      "cell_type": "code",
      "execution_count": 41,
      "metadata": {
        "colab": {
          "base_uri": "https://localhost:8080/"
        },
        "id": "vrSCF3sKmNlO",
        "outputId": "789de30c-baf9-479f-e314-3f3a27f50ce1"
      },
      "outputs": [
        {
          "output_type": "execute_result",
          "data": {
            "text/plain": [
              "torch.Size([128, 32])"
            ]
          },
          "metadata": {},
          "execution_count": 41
        }
      ],
      "source": [
        "x.shape"
      ]
    },
    {
      "cell_type": "code",
      "execution_count": 42,
      "metadata": {
        "colab": {
          "base_uri": "https://localhost:8080/"
        },
        "id": "wpGLdjVhmNlO",
        "outputId": "a5eeeec4-bd2a-490e-b198-b4ceea5c9f68"
      },
      "outputs": [
        {
          "output_type": "execute_result",
          "data": {
            "text/plain": [
              "tensor([[ 3.1817e-01,  3.0578e-01,  6.2593e-01,  ..., -7.1094e+00,\n",
              "         -2.8111e+00, -4.3344e-01],\n",
              "        [ 4.0546e-01,  1.6975e-02,  7.8780e-02,  ..., -2.4456e+01,\n",
              "         -1.5247e+01, -1.4000e+01],\n",
              "        [ 9.7588e-01,  4.3549e-01,  5.1392e-02,  ..., -4.9877e+00,\n",
              "         -1.7810e+01, -4.1059e+01],\n",
              "        ...,\n",
              "        [ 6.4274e-01,  8.9664e-01,  3.1847e-01,  ..., -6.5458e-01,\n",
              "         -6.8654e+00, -2.9750e+00],\n",
              "        [ 7.4317e-01,  6.8783e-01,  7.6082e-01,  ..., -2.2453e+00,\n",
              "         -1.6402e+00, -1.1454e+00],\n",
              "        [ 4.0077e-01,  9.9146e-01,  3.0127e-01,  ..., -5.1449e-02,\n",
              "         -7.1986e+00, -4.3329e+00]], dtype=torch.float64)"
            ]
          },
          "metadata": {},
          "execution_count": 42
        }
      ],
      "source": [
        "# заметим, что мы сразу получаем торчовый формат данных\n",
        "x"
      ]
    },
    {
      "cell_type": "code",
      "execution_count": 43,
      "metadata": {
        "colab": {
          "base_uri": "https://localhost:8080/"
        },
        "id": "KeAJDkpSmNlO",
        "outputId": "21b4506f-d2f8-4756-86e0-a05e96834ede"
      },
      "outputs": [
        {
          "output_type": "execute_result",
          "data": {
            "text/plain": [
              "tensor([1, 1, 1, 2, 1, 1, 2, 0, 1, 2, 0, 0, 0, 1, 1, 0, 0, 2, 1, 2, 2, 2, 1, 1,\n",
              "        0, 1, 1, 0, 0, 0, 1, 1, 2, 1, 0, 1, 1, 0, 0, 1, 1, 0, 1, 2, 1, 1, 1, 2,\n",
              "        1, 1, 0, 1, 0, 0, 2, 1, 0, 1, 2, 1, 2, 0, 1, 0, 1, 2, 1, 0, 1, 2, 1, 1,\n",
              "        0, 2, 0, 1, 1, 2, 1, 2, 1, 1, 1, 0, 2, 2, 1, 2, 2, 2, 1, 0, 2, 0, 2, 1,\n",
              "        1, 0, 1, 1, 1, 1, 0, 1, 1, 1, 2, 2, 2, 1, 2, 1, 2, 2, 2, 2, 0, 1, 2, 2,\n",
              "        1, 2, 1, 2, 0, 0, 0, 2])"
            ]
          },
          "metadata": {},
          "execution_count": 43
        }
      ],
      "source": [
        "y"
      ]
    },
    {
      "cell_type": "markdown",
      "metadata": {
        "id": "buJuuqTVmNlP"
      },
      "source": [
        "# Если вы ничего здесь не понимаете, то вернитесь в конец первой домашки, там все объясняется"
      ]
    },
    {
      "cell_type": "code",
      "execution_count": 44,
      "metadata": {
        "id": "IWycVgOemNlP"
      },
      "outputs": [],
      "source": [
        "model = torch.nn.Sequential(torch.nn.Linear(32, 16),\n",
        "                            torch.nn.ReLU(),\n",
        "                            torch.nn.Linear(16, 8),\n",
        "                            torch.nn.ReLU(),\n",
        "                            torch.nn.Linear(8, 3))\n",
        "\n",
        "criterion = torch.nn.CrossEntropyLoss()"
      ]
    },
    {
      "cell_type": "code",
      "execution_count": 45,
      "metadata": {
        "colab": {
          "base_uri": "https://localhost:8080/"
        },
        "id": "dbebxFcDmNlP",
        "outputId": "2a1bfe7c-0c20-4321-cc0c-76d081936612"
      },
      "outputs": [
        {
          "output_type": "execute_result",
          "data": {
            "text/plain": [
              "1.1042399406433105"
            ]
          },
          "metadata": {},
          "execution_count": 45
        }
      ],
      "source": [
        "with torch.no_grad():\n",
        "\n",
        "    prediction = model(x.float())\n",
        "\n",
        "    loss = criterion(prediction, y)\n",
        "\n",
        "loss.item()"
      ]
    },
    {
      "cell_type": "markdown",
      "metadata": {
        "id": "MaFonHfXmNlP"
      },
      "source": [
        "# Боевые датасеты"
      ]
    },
    {
      "cell_type": "code",
      "execution_count": 46,
      "metadata": {
        "id": "PgJqqwU6mNlQ"
      },
      "outputs": [],
      "source": [
        "class CBOWDataset(Dataset):\n",
        "\n",
        "    def __init__(self,\n",
        "                 corpus,\n",
        "                 word2index,\n",
        "                 window=2,\n",
        "                 unk_token='UNK',\n",
        "                 pad_token='PAD',\n",
        "                 collect_verbose=True):\n",
        "\n",
        "        self.corpus = corpus\n",
        "        self.word2index = word2index\n",
        "        self.index2word = {value: key for key, value in self.word2index.items()}\n",
        "        self.window = window\n",
        "\n",
        "        self.unk_token = unk_token\n",
        "        self.unk_index = self.word2index[self.unk_token]\n",
        "\n",
        "        self.pad_token = pad_token\n",
        "        self.pad_index = len(self.word2index)\n",
        "\n",
        "        self.collect_verbose = collect_verbose\n",
        "\n",
        "        self.data = []\n",
        "\n",
        "        self.collect_data()\n",
        "\n",
        "    def __len__(self):\n",
        "\n",
        "        return len(self.data)\n",
        "\n",
        "    def _split_function(self, tokenized_text):\n",
        "\n",
        "        splits = []\n",
        "\n",
        "        for n in range(len(tokenized_text)):\n",
        "            left_context = tokenized_text[np.maximum(n - self.window, 0):n]\n",
        "            left_context = ([self.pad_index] * (self.window - len(left_context))) + left_context\n",
        "\n",
        "            central_word = tokenized_text[n]\n",
        "\n",
        "            right_context = tokenized_text[n + 1:n + self.window + 1]\n",
        "            right_context = right_context + ([self.pad_index] * (self.window - len(right_context)))\n",
        "\n",
        "            splits.append((left_context + right_context, central_word))\n",
        "\n",
        "        return splits\n",
        "\n",
        "    def indexing(self, tokenized_text):\n",
        "\n",
        "        return [self.word2index[token] if token in self.word2index else self.unk_index for token in tokenized_text]\n",
        "\n",
        "    def collect_data(self):\n",
        "\n",
        "        corpus = tqdm(self.corpus, disable=not self.collect_verbose)\n",
        "\n",
        "        for tokenized_text in corpus:\n",
        "            indexed_text = self.indexing(tokenized_text)\n",
        "            cbow_examples = self._split_function(indexed_text)\n",
        "\n",
        "            self.data.extend(cbow_examples)\n",
        "\n",
        "    def __getitem__(self, idx):\n",
        "\n",
        "        context, central_word = self.data[idx]\n",
        "\n",
        "        context = torch.Tensor(context).long()\n",
        "\n",
        "        return context, central_word"
      ]
    },
    {
      "cell_type": "markdown",
      "metadata": {
        "id": "TVnUP32tmNlQ"
      },
      "source": [
        "# Мы будем учить модель Skipgram\n",
        "Реализуйте читалку данных"
      ]
    },
    {
      "cell_type": "code",
      "execution_count": 47,
      "metadata": {
        "id": "ryiV-UsFmNlR"
      },
      "outputs": [],
      "source": [
        "class SkipgramDataset(Dataset):\n",
        "\n",
        "    def __init__(self,\n",
        "                 corpus,\n",
        "                 word2index,\n",
        "                 window=2,\n",
        "                 unk_token='UNK',\n",
        "                 collect_verbose=True):\n",
        "\n",
        "      self.corpus = corpus\n",
        "      self.word2index = word2index\n",
        "      self.index2word = {value: key for key, value in self.word2index.items()}\n",
        "      self.window = window\n",
        "      self.unk_token = unk_token\n",
        "      self.unk_index = self.word2index[self.unk_token]\n",
        "      self.collect_verbose = collect_verbose\n",
        "      self.data = []\n",
        "      self.collect_data()\n",
        "\n",
        "    def __len__(self):\n",
        "\n",
        "        return len(self.data)\n",
        "\n",
        "    def _split_function(self, tokenized_text):\n",
        "\n",
        "        # вставить здесь функцию, которые вы писали раньше\n",
        "\n",
        "        splits = skipgram_split(tokenized_text, self.window)\n",
        "\n",
        "        return splits\n",
        "\n",
        "    def indexing(self, tokenized_text):\n",
        "\n",
        "        return [self.word2index[token] if token in self.word2index else self.unk_index for token in tokenized_text]\n",
        "\n",
        "    def collect_data(self):\n",
        "\n",
        "        corpus = tqdm(self.corpus, disable=not self.collect_verbose)\n",
        "\n",
        "        for tokenized_text in corpus:\n",
        "            indexed_text = self.indexing(tokenized_text)\n",
        "            skipgram_examples = self._split_function(indexed_text)\n",
        "\n",
        "            self.data.extend(skipgram_examples)\n",
        "\n",
        "    def __getitem__(self, idx):\n",
        "\n",
        "        # CODE\n",
        "        context, central_word = self.data[idx]\n",
        "\n",
        "        return context, central_word"
      ]
    },
    {
      "cell_type": "code",
      "execution_count": 48,
      "metadata": {
        "id": "lQhR65C4mNlR"
      },
      "outputs": [],
      "source": [
        "# можете положить SkipgramDataset в отдельный файлик, например word2vec_utils и относительным импортом достать его\n",
        "#from .word2vec_utils import SkipgramDataset"
      ]
    },
    {
      "cell_type": "code",
      "execution_count": 49,
      "metadata": {
        "colab": {
          "base_uri": "https://localhost:8080/"
        },
        "id": "HcCY7xiumNlR",
        "outputId": "d79792b1-51c6-40e0-c4dc-5bb170f2db98",
        "scrolled": true
      },
      "outputs": [
        {
          "output_type": "stream",
          "name": "stderr",
          "text": [
            "100%|██████████| 100000/100000 [00:01<00:00, 88688.06it/s]\n"
          ]
        }
      ],
      "source": [
        "dataset = SkipgramDataset(corpus, word2index)"
      ]
    },
    {
      "cell_type": "code",
      "execution_count": 50,
      "metadata": {
        "id": "cnF_xouamNlS"
      },
      "outputs": [],
      "source": [
        "BATCH_SIZE = 512"
      ]
    },
    {
      "cell_type": "code",
      "execution_count": 51,
      "metadata": {
        "id": "EM2qhXiSmNlS"
      },
      "outputs": [],
      "source": [
        "dataset_loader = DataLoader(dataset, shuffle=True, batch_size=BATCH_SIZE)"
      ]
    },
    {
      "cell_type": "code",
      "execution_count": 52,
      "metadata": {
        "id": "SmRFrL5wmNlS"
      },
      "outputs": [],
      "source": [
        "for x, y in dataset_loader:\n",
        "    break"
      ]
    },
    {
      "cell_type": "code",
      "execution_count": 53,
      "metadata": {
        "colab": {
          "base_uri": "https://localhost:8080/"
        },
        "id": "-uXlYRhumNlT",
        "outputId": "8f686050-41f6-4f65-8151-4ff34448bca6"
      },
      "outputs": [
        {
          "output_type": "execute_result",
          "data": {
            "text/plain": [
              "tensor([3538,  202,  476,  761,  492])"
            ]
          },
          "metadata": {},
          "execution_count": 53
        }
      ],
      "source": [
        "x[:5]"
      ]
    },
    {
      "cell_type": "code",
      "execution_count": 54,
      "metadata": {
        "colab": {
          "base_uri": "https://localhost:8080/"
        },
        "id": "JlQeWthPmNlT",
        "outputId": "f1378f88-ec21-426d-f1fa-a9f4c24ae08b"
      },
      "outputs": [
        {
          "output_type": "execute_result",
          "data": {
            "text/plain": [
              "tensor([1569, 6517,  183,  368,   66])"
            ]
          },
          "metadata": {},
          "execution_count": 54
        }
      ],
      "source": [
        "y[:5]"
      ]
    },
    {
      "cell_type": "code",
      "execution_count": 55,
      "metadata": {
        "colab": {
          "base_uri": "https://localhost:8080/"
        },
        "id": "FJXeuGTBmNlT",
        "outputId": "5a6cc3d7-ecd1-4ca0-8f64-30be2ce4c966"
      },
      "outputs": [
        {
          "output_type": "execute_result",
          "data": {
            "text/plain": [
              "(torch.Size([512]), torch.Size([512]))"
            ]
          },
          "metadata": {},
          "execution_count": 55
        }
      ],
      "source": [
        "x.shape, y.shape"
      ]
    },
    {
      "cell_type": "code",
      "execution_count": 56,
      "metadata": {
        "id": "AhLDakdvmNlU"
      },
      "outputs": [],
      "source": [
        "class CBOW(torch.nn.Module):\n",
        "\n",
        "    def __init__(self, vocab_size, embedding_dim, pad_index):\n",
        "\n",
        "        super().__init__()\n",
        "\n",
        "        if pad_index > 0:\n",
        "            vocab_size += 1\n",
        "\n",
        "        self.in_embedding = torch.nn.Embedding(num_embeddings=vocab_size,\n",
        "                                               embedding_dim=embedding_dim,\n",
        "                                               padding_idx=pad_index)\n",
        "\n",
        "        self.out_embedding = torch.nn.Linear(in_features=embedding_dim,\n",
        "                                             out_features=vocab_size, bias=False)\n",
        "\n",
        "    def forward(self, x):\n",
        "\n",
        "        x = self.in_embedding(x).sum(dim=-2)\n",
        "        x = self.out_embedding(x)\n",
        "\n",
        "        return x"
      ]
    },
    {
      "cell_type": "markdown",
      "metadata": {
        "id": "3psbDp9gmNlU"
      },
      "source": [
        "# Мы будем учить модель Skipgram\n",
        "Реализуйте ее"
      ]
    },
    {
      "cell_type": "code",
      "execution_count": 57,
      "metadata": {
        "id": "XmNI_OS3mNlU"
      },
      "outputs": [],
      "source": [
        "# CODE\n",
        "class SkipGram(torch.nn.Module):\n",
        "\n",
        "  def __init__(self, vocab_size, embedding_dim):\n",
        "\n",
        "    super().__init__()\n",
        "\n",
        "    self.in_embedding = torch.nn.Embedding(num_embeddings=vocab_size,\n",
        "                                               embedding_dim=embedding_dim)\n",
        "\n",
        "    self.out_embedding = torch.nn.Linear(in_features=embedding_dim,\n",
        "                                             out_features=vocab_size, bias=False)\n",
        "\n",
        "  def forward(self, x):\n",
        "\n",
        "    x = self.in_embedding(x)#.sum(dim=-2)\n",
        "    x = self.out_embedding(x)\n",
        "\n",
        "    return x"
      ]
    },
    {
      "cell_type": "code",
      "execution_count": 58,
      "metadata": {
        "id": "8tepBH9pmNlU"
      },
      "outputs": [],
      "source": [
        "#from word2vec_utils import SkipGram"
      ]
    },
    {
      "cell_type": "code",
      "execution_count": 59,
      "metadata": {
        "id": "mGun6yVSmNlV"
      },
      "outputs": [],
      "source": [
        "# размерность эмбеддинга\n",
        "# маленькая, чтобы мы могли недолго поучить ворд2век и увидеть результаты\n",
        "EMBEDDING_DIM = 20"
      ]
    },
    {
      "cell_type": "code",
      "execution_count": 60,
      "metadata": {
        "id": "eZUW0eWsmNlV"
      },
      "outputs": [],
      "source": [
        "model = SkipGram(vocab_size=len(word2index), embedding_dim=EMBEDDING_DIM)"
      ]
    },
    {
      "cell_type": "code",
      "execution_count": 100,
      "metadata": {
        "colab": {
          "base_uri": "https://localhost:8080/"
        },
        "id": "cyPuX7TBmNlV",
        "outputId": "9d4ba598-e893-4c73-ea8e-dc0a2e3bcd24"
      },
      "outputs": [
        {
          "output_type": "execute_result",
          "data": {
            "text/plain": [
              "torch.Size([512, 13076])"
            ]
          },
          "metadata": {},
          "execution_count": 100
        }
      ],
      "source": [
        "with torch.no_grad():\n",
        "    pred = model(x)\n",
        "\n",
        "pred.shape"
      ]
    },
    {
      "cell_type": "code",
      "execution_count": 105,
      "metadata": {
        "id": "yAi4D0r3mNlV"
      },
      "outputs": [],
      "source": [
        "optimizer = torch.optim.Adam(params=model.parameters(), lr=0.001)\n",
        "\n",
        "# aka loss function\n",
        "criterion = torch.nn.CrossEntropyLoss()"
      ]
    },
    {
      "cell_type": "markdown",
      "metadata": {
        "id": "y2ACnXmimNlW"
      },
      "source": [
        "# Допишите обучалку"
      ]
    },
    {
      "cell_type": "code",
      "execution_count": 106,
      "metadata": {
        "colab": {
          "base_uri": "https://localhost:8080/"
        },
        "id": "83vPrQ3FmNlW",
        "outputId": "1eb47fda-b3fa-41e8-8f6a-0ecffa6e056f"
      },
      "outputs": [
        {
          "output_type": "stream",
          "name": "stderr",
          "text": [
            "Epoch 1: 100%|██████████| 2967206/2967206 [04:51<00:00, 10174.77it/s, loss=7]\n",
            "Epoch 2: 100%|██████████| 2967206/2967206 [05:00<00:00, 9888.98it/s, loss=6.79]\n",
            "Epoch 3: 100%|██████████| 2967206/2967206 [05:07<00:00, 9664.00it/s, loss=6.73] \n"
          ]
        }
      ],
      "source": [
        "epochs = 3\n",
        "\n",
        "losses = []\n",
        "\n",
        "for n_epoch in range(epochs):\n",
        "\n",
        "    try:\n",
        "\n",
        "        progress_bar = tqdm(total=len(dataset_loader.dataset), desc='Epoch {}'.format(n_epoch + 1))\n",
        "\n",
        "        for x, y in dataset_loader:\n",
        "\n",
        "            optimizer.zero_grad()\n",
        "\n",
        "            pred = model(x)\n",
        "            loss = criterion(pred, y)\n",
        "\n",
        "            loss.backward()\n",
        "            optimizer.step()\n",
        "\n",
        "            losses.append(loss.item())\n",
        "\n",
        "            progress_bar.set_postfix(loss=np.mean(losses[-100:]))\n",
        "\n",
        "            progress_bar.update(x.shape[0])\n",
        "\n",
        "        progress_bar.close()\n",
        "\n",
        "    except KeyboardInterrupt:\n",
        "\n",
        "        progress_bar.close()\n",
        "        break"
      ]
    },
    {
      "cell_type": "code",
      "execution_count": 107,
      "metadata": {
        "colab": {
          "base_uri": "https://localhost:8080/",
          "height": 581
        },
        "id": "bzu6gdvVmNlW",
        "outputId": "35137572-1170-40e0-89cf-652d830121eb"
      },
      "outputs": [
        {
          "output_type": "execute_result",
          "data": {
            "text/plain": [
              "[<matplotlib.lines.Line2D at 0x7f9f5d774310>]"
            ]
          },
          "metadata": {},
          "execution_count": 107
        },
        {
          "output_type": "display_data",
          "data": {
            "text/plain": [
              "<Figure size 1000x600 with 1 Axes>"
            ],
            "image/png": "[encoded data removed]"
          },
          "metadata": {}
        }
      ],
      "source": [
        "plt.figure(figsize=(10, 6))\n",
        "plt.title('SkipGram Training Process')\n",
        "plt.xlabel('Itearations')\n",
        "plt.ylabel('Loss')\n",
        "plt.grid()\n",
        "plt.plot(losses)"
      ]
    },
    {
      "cell_type": "code",
      "execution_count": 108,
      "metadata": {
        "id": "LbC6HMPCmNlX"
      },
      "outputs": [],
      "source": [
        "# проверка, что хоть что-то выучилось\n",
        "assert np.mean(losses[-1000:]) < 7.5"
      ]
    },
    {
      "cell_type": "code",
      "execution_count": 109,
      "metadata": {
        "id": "hXSzIXbDmNlX"
      },
      "outputs": [],
      "source": [
        "embedding_matrix = model.in_embedding.weight.detach()"
      ]
    },
    {
      "cell_type": "code",
      "execution_count": 110,
      "metadata": {
        "id": "LnbDX40AmNlX"
      },
      "outputs": [],
      "source": [
        "def cos_sim(embedding_matrix, token2id, word1, word2):\n",
        "\n",
        "    i1 = token2id[word1]\n",
        "    i2 = token2id[word2]\n",
        "\n",
        "    v1, v2 = embedding_matrix[i1], embedding_matrix[i2]\n",
        "\n",
        "    v1_n = v1.div(v1.norm(keepdim=True))\n",
        "    v2_n = v2.div(v2.norm(keepdim=True))\n",
        "\n",
        "    similarity = torch.dot(v1_n, v2_n).item()\n",
        "\n",
        "    return similarity"
      ]
    },
    {
      "cell_type": "markdown",
      "metadata": {
        "id": "AwwoOVnxmNlY"
      },
      "source": [
        "# Косинусная близость\n",
        "От 0 до 1, где 0 - вектора абсолютно разные, где 1 - идентичные."
      ]
    },
    {
      "cell_type": "code",
      "execution_count": 111,
      "metadata": {
        "colab": {
          "base_uri": "https://localhost:8080/"
        },
        "id": "bAm0AEBfmNlY",
        "outputId": "dc3350f8-ee50-41f3-94f9-0f4220792b6d"
      },
      "outputs": [
        {
          "output_type": "execute_result",
          "data": {
            "text/plain": [
              "0.7997769117355347"
            ]
          },
          "metadata": {},
          "execution_count": 111
        }
      ],
      "source": [
        "cos_sim(embedding_matrix, word2index, 'день', 'месяц')"
      ]
    },
    {
      "cell_type": "code",
      "execution_count": 112,
      "metadata": {
        "colab": {
          "base_uri": "https://localhost:8080/"
        },
        "id": "Nhj77tTnmNlY",
        "outputId": "d2b6cfc9-4109-4330-cea5-c7ac7c8d84fa"
      },
      "outputs": [
        {
          "output_type": "execute_result",
          "data": {
            "text/plain": [
              "0.6498320698738098"
            ]
          },
          "metadata": {},
          "execution_count": 112
        }
      ],
      "source": [
        "cos_sim(embedding_matrix, word2index, 'минута', 'месяц')"
      ]
    },
    {
      "cell_type": "code",
      "execution_count": 113,
      "metadata": {
        "colab": {
          "base_uri": "https://localhost:8080/"
        },
        "id": "yba7aD1cmNlZ",
        "outputId": "1e30b467-e80c-4fff-c623-8743eb1944a4"
      },
      "outputs": [
        {
          "output_type": "execute_result",
          "data": {
            "text/plain": [
              "0.8616282939910889"
            ]
          },
          "metadata": {},
          "execution_count": 113
        }
      ],
      "source": [
        "cos_sim(embedding_matrix, word2index, 'сотрудник', 'сотрудница')"
      ]
    },
    {
      "cell_type": "code",
      "execution_count": 114,
      "metadata": {
        "colab": {
          "base_uri": "https://localhost:8080/"
        },
        "id": "8XdsK0k5mNlZ",
        "outputId": "d09e6bc8-cd51-4f58-9098-586db6569f8f"
      },
      "outputs": [
        {
          "output_type": "execute_result",
          "data": {
            "text/plain": [
              "0.4826991558074951"
            ]
          },
          "metadata": {},
          "execution_count": 114
        }
      ],
      "source": [
        "cos_sim(embedding_matrix, word2index, 'вклад', 'перевод')"
      ]
    },
    {
      "cell_type": "code",
      "execution_count": 115,
      "metadata": {
        "colab": {
          "base_uri": "https://localhost:8080/",
          "height": 35
        },
        "id": "CTi79UNQmNlZ",
        "outputId": "50440d17-7150-4179-e202-2e1703b515ac"
      },
      "outputs": [
        {
          "output_type": "execute_result",
          "data": {
            "text/plain": [
              "'Косинусная близость слова \"день\" к случайному выбраному слову \"действие\" равна 0.334'"
            ],
            "application/vnd.google.colaboratory.intrinsic+json": {
              "type": "string"
            }
          },
          "metadata": {},
          "execution_count": 115
        }
      ],
      "source": [
        "random_word = random.choice(list(word2index.keys()))\n",
        "sim = cos_sim(embedding_matrix, word2index, 'день', random_word)\n",
        "'Косинусная близость слова \"день\" к случайному выбраному слову \"{}\" равна {:.3f}'.format(random_word, sim)"
      ]
    },
    {
      "cell_type": "code",
      "execution_count": 116,
      "metadata": {
        "id": "MpD-RBNRmNla"
      },
      "outputs": [],
      "source": [
        "freq = {}\n",
        "\n",
        "for text in corpus:\n",
        "    for token in text:\n",
        "        if token in freq:\n",
        "            freq[token] += 1\n",
        "        else:\n",
        "            freq[token] = 1"
      ]
    },
    {
      "cell_type": "code",
      "execution_count": 117,
      "metadata": {
        "id": "iMNlZuZumNla"
      },
      "outputs": [],
      "source": [
        "sorted_freq = [(k, freq[k]) for k in sorted(freq, key=freq.get, reverse=True)]\n",
        "top_sorted_freq = sorted_freq[0:200]"
      ]
    },
    {
      "cell_type": "code",
      "execution_count": 118,
      "metadata": {
        "colab": {
          "base_uri": "https://localhost:8080/"
        },
        "id": "5MY3Us-BmNla",
        "outputId": "13040232-f54f-4d1b-e9d8-8fd19a8ccab6"
      },
      "outputs": [
        {
          "output_type": "stream",
          "name": "stdout",
          "text": [
            "[t-SNE] Computing 91 nearest neighbors...\n",
            "[t-SNE] Indexed 13076 samples in 0.000s...\n",
            "[t-SNE] Computed neighbors for 13076 samples in 0.828s...\n",
            "[t-SNE] Computed conditional probabilities for sample 1000 / 13076\n",
            "[t-SNE] Computed conditional probabilities for sample 2000 / 13076\n",
            "[t-SNE] Computed conditional probabilities for sample 3000 / 13076\n",
            "[t-SNE] Computed conditional probabilities for sample 4000 / 13076\n",
            "[t-SNE] Computed conditional probabilities for sample 5000 / 13076\n",
            "[t-SNE] Computed conditional probabilities for sample 6000 / 13076\n",
            "[t-SNE] Computed conditional probabilities for sample 7000 / 13076\n",
            "[t-SNE] Computed conditional probabilities for sample 8000 / 13076\n",
            "[t-SNE] Computed conditional probabilities for sample 9000 / 13076\n",
            "[t-SNE] Computed conditional probabilities for sample 10000 / 13076\n",
            "[t-SNE] Computed conditional probabilities for sample 11000 / 13076\n",
            "[t-SNE] Computed conditional probabilities for sample 12000 / 13076\n",
            "[t-SNE] Computed conditional probabilities for sample 13000 / 13076\n",
            "[t-SNE] Computed conditional probabilities for sample 13076 / 13076\n",
            "[t-SNE] Mean sigma: 0.913808\n",
            "[t-SNE] Computed conditional probabilities in 0.240s\n",
            "[t-SNE] Iteration 50: error = 97.1479950, gradient norm = 0.0000000 (50 iterations in 5.495s)\n",
            "[t-SNE] Iteration 50: gradient norm 0.000000. Finished.\n",
            "[t-SNE] KL divergence after 50 iterations with early exaggeration: 97.147995\n",
            "[t-SNE] Iteration 100: error = 4.8774257, gradient norm = 0.0245919 (50 iterations in 5.179s)\n",
            "[t-SNE] Iteration 150: error = 4.2972178, gradient norm = 0.0058128 (50 iterations in 4.848s)\n",
            "[t-SNE] Iteration 200: error = 4.1678891, gradient norm = 0.0056627 (50 iterations in 4.000s)\n",
            "[t-SNE] Iteration 250: error = 4.0839200, gradient norm = 0.0055558 (50 iterations in 3.864s)\n",
            "[t-SNE] Iteration 300: error = 4.0239081, gradient norm = 0.0053285 (50 iterations in 4.782s)\n",
            "[t-SNE] Iteration 350: error = 3.9784968, gradient norm = 0.0051137 (50 iterations in 3.879s)\n",
            "[t-SNE] Iteration 400: error = 3.9438822, gradient norm = 0.0048362 (50 iterations in 3.872s)\n",
            "[t-SNE] Iteration 450: error = 3.9162986, gradient norm = 0.0045952 (50 iterations in 4.843s)\n",
            "[t-SNE] Iteration 500: error = 3.8938067, gradient norm = 0.0043930 (50 iterations in 4.827s)\n",
            "[t-SNE] Iteration 550: error = 3.8750458, gradient norm = 0.0042228 (50 iterations in 4.509s)\n",
            "[t-SNE] Iteration 600: error = 3.8592949, gradient norm = 0.0040026 (50 iterations in 4.058s)\n",
            "[t-SNE] Iteration 650: error = 3.8461597, gradient norm = 0.0036717 (50 iterations in 3.789s)\n",
            "[t-SNE] Iteration 700: error = 3.8352785, gradient norm = 0.0033619 (50 iterations in 4.718s)\n",
            "[t-SNE] Iteration 750: error = 3.8259358, gradient norm = 0.0031907 (50 iterations in 3.777s)\n",
            "[t-SNE] Iteration 800: error = 3.8177953, gradient norm = 0.0030927 (50 iterations in 3.764s)\n",
            "[t-SNE] Iteration 850: error = 3.8107405, gradient norm = 0.0028417 (50 iterations in 4.749s)\n",
            "[t-SNE] Iteration 900: error = 3.8044882, gradient norm = 0.0027173 (50 iterations in 3.750s)\n",
            "[t-SNE] Iteration 950: error = 3.7990375, gradient norm = 0.0025330 (50 iterations in 3.740s)\n",
            "[t-SNE] Iteration 1000: error = 3.7942066, gradient norm = 0.0024067 (50 iterations in 4.692s)\n",
            "[t-SNE] KL divergence after 1000 iterations: 3.794207\n"
          ]
        }
      ],
      "source": [
        "tsne = TSNE(n_components=2, init='pca', random_state=42, verbose=2)\n",
        "reduced = tsne.fit_transform(embedding_matrix)"
      ]
    },
    {
      "cell_type": "code",
      "execution_count": 119,
      "metadata": {
        "id": "Ok-rvSNFmNla"
      },
      "outputs": [],
      "source": [
        "top_words = [a for a,_ in top_sorted_freq]"
      ]
    },
    {
      "cell_type": "code",
      "execution_count": 120,
      "metadata": {
        "id": "fc4rXKd8mNlb"
      },
      "outputs": [],
      "source": [
        "inds = [word2index[word] for word in top_words]\n",
        "x_coords = [coords[0] for coords in reduced[inds]]\n",
        "y_coords = [coords[1] for coords in reduced[inds]]"
      ]
    },
    {
      "cell_type": "code",
      "execution_count": 122,
      "metadata": {
        "id": "0MV2xTngmNlb",
        "colab": {
          "base_uri": "https://localhost:8080/",
          "height": 1000
        },
        "outputId": "bb2789d0-ff45-445a-8884-877852c364e1"
      },
      "outputs": [
        {
          "output_type": "display_data",
          "data": {
            "text/plain": [
              "<Figure size 1500x1500 with 1 Axes>"
            ],
            "image/png": "[encoded data removed]"
          },
          "metadata": {}
        }
      ],
      "source": [
        "for (x, y, word) in zip(x_coords, y_coords, top_words):\n",
        "    plt.scatter(x, y, marker='.', color='blue')\n",
        "    plt.text(x+0.01, y+0.01, word, fontsize=9)\n",
        "plt.show()"
      ]
    },
    {
      "cell_type": "code",
      "execution_count": 121,
      "metadata": {
        "id": "X_JDNOtMmNlb"
      },
      "outputs": [],
      "source": []
    }
  ],
  "metadata": {
    "colab": {
      "provenance": []
    },
    "kernelspec": {
      "display_name": "Python 3",
      "language": "python",
      "name": "python3"
    },
    "language_info": {
      "codemirror_mode": {
        "name": "ipython",
        "version": 3
      },
      "file_extension": ".py",
      "mimetype": "text/x-python",
      "name": "python",
      "nbconvert_exporter": "python",
      "pygments_lexer": "ipython3",
      "version": "3.6.8"
    }
  },
  "nbformat": 4,
  "nbformat_minor": 0
}