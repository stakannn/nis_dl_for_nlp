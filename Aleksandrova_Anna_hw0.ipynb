{
  "nbformat": 4,
  "nbformat_minor": 0,
  "metadata": {
    "colab": {
      "provenance": []
    },
    "kernelspec": {
      "name": "python3",
      "display_name": "Python 3"
    },
    "language_info": {
      "name": "python"
    }
  },
  "cells": [
    {
      "cell_type": "code",
      "execution_count": 1,
      "metadata": {
        "id": "OQA3VBpFhxTx"
      },
      "outputs": [],
      "source": [
        "import numpy as np\n",
        "from sklearn.metrics import classification_report\n",
        "import torch\n",
        "from torch.utils.data import DataLoader\n",
        "from torchvision.datasets import MNIST\n",
        "from torchvision import transforms\n",
        "import matplotlib.pyplot as plt\n",
        "from tqdm import tqdm\n",
        "from sklearn.metrics import accuracy_score\n",
        "import time"
      ]
    },
    {
      "cell_type": "code",
      "source": [
        "transform = transforms.Compose([\n",
        "    transforms.ToTensor(),\n",
        "    transforms.Normalize((0.1307,), (0.3081,))\n",
        "])"
      ],
      "metadata": {
        "id": "YSSv4JGcrNbL"
      },
      "execution_count": 2,
      "outputs": []
    },
    {
      "cell_type": "code",
      "source": [
        "train_dataset = MNIST('.', train=True, download=True, transform=transform)\n",
        "test_dataset = MNIST('.', train=False, transform=transform)"
      ],
      "metadata": {
        "id": "Jc6abZrHh4CM",
        "colab": {
          "base_uri": "https://localhost:8080/"
        },
        "outputId": "bec5e3c7-2227-46c0-bf17-092a479ecfc7"
      },
      "execution_count": 3,
      "outputs": [
        {
          "output_type": "stream",
          "name": "stdout",
          "text": [
            "Downloading http://yann.lecun.com/exdb/mnist/train-images-idx3-ubyte.gz\n",
            "Downloading http://yann.lecun.com/exdb/mnist/train-images-idx3-ubyte.gz to ./MNIST/raw/train-images-idx3-ubyte.gz\n"
          ]
        },
        {
          "output_type": "stream",
          "name": "stderr",
          "text": [
            "100%|██████████| 9912422/9912422 [00:00<00:00, 109622954.23it/s]\n"
          ]
        },
        {
          "output_type": "stream",
          "name": "stdout",
          "text": [
            "Extracting ./MNIST/raw/train-images-idx3-ubyte.gz to ./MNIST/raw\n",
            "\n",
            "Downloading http://yann.lecun.com/exdb/mnist/train-labels-idx1-ubyte.gz\n",
            "Downloading http://yann.lecun.com/exdb/mnist/train-labels-idx1-ubyte.gz to ./MNIST/raw/train-labels-idx1-ubyte.gz\n"
          ]
        },
        {
          "output_type": "stream",
          "name": "stderr",
          "text": [
            "100%|██████████| 28881/28881 [00:00<00:00, 35244601.05it/s]\n"
          ]
        },
        {
          "output_type": "stream",
          "name": "stdout",
          "text": [
            "Extracting ./MNIST/raw/train-labels-idx1-ubyte.gz to ./MNIST/raw\n",
            "\n",
            "Downloading http://yann.lecun.com/exdb/mnist/t10k-images-idx3-ubyte.gz\n",
            "Downloading http://yann.lecun.com/exdb/mnist/t10k-images-idx3-ubyte.gz to ./MNIST/raw/t10k-images-idx3-ubyte.gz\n"
          ]
        },
        {
          "output_type": "stream",
          "name": "stderr",
          "text": [
            "100%|██████████| 1648877/1648877 [00:00<00:00, 64195926.86it/s]"
          ]
        },
        {
          "output_type": "stream",
          "name": "stdout",
          "text": [
            "Extracting ./MNIST/raw/t10k-images-idx3-ubyte.gz to ./MNIST/raw\n"
          ]
        },
        {
          "output_type": "stream",
          "name": "stderr",
          "text": [
            "\n"
          ]
        },
        {
          "output_type": "stream",
          "name": "stdout",
          "text": [
            "\n",
            "Downloading http://yann.lecun.com/exdb/mnist/t10k-labels-idx1-ubyte.gz\n",
            "Downloading http://yann.lecun.com/exdb/mnist/t10k-labels-idx1-ubyte.gz to ./MNIST/raw/t10k-labels-idx1-ubyte.gz\n"
          ]
        },
        {
          "output_type": "stream",
          "name": "stderr",
          "text": [
            "100%|██████████| 4542/4542 [00:00<00:00, 14366914.61it/s]\n"
          ]
        },
        {
          "output_type": "stream",
          "name": "stdout",
          "text": [
            "Extracting ./MNIST/raw/t10k-labels-idx1-ubyte.gz to ./MNIST/raw\n",
            "\n"
          ]
        }
      ]
    },
    {
      "cell_type": "code",
      "source": [
        "test_dataset.targets"
      ],
      "metadata": {
        "colab": {
          "base_uri": "https://localhost:8080/"
        },
        "id": "VcoJyLrGkWeh",
        "outputId": "d07e3ea8-c99b-40c3-8906-e8fefedbe193"
      },
      "execution_count": 4,
      "outputs": [
        {
          "output_type": "execute_result",
          "data": {
            "text/plain": [
              "tensor([7, 2, 1,  ..., 4, 5, 6])"
            ]
          },
          "metadata": {},
          "execution_count": 4
        }
      ]
    },
    {
      "cell_type": "code",
      "source": [
        "train_dataset.data = train_dataset.data[(train_dataset.targets == 3) | (train_dataset.targets == 7)]\n",
        "train_dataset.targets = train_dataset.targets[(train_dataset.targets == 3) | (train_dataset.targets == 7)]\n",
        "\n",
        "test_dataset.data = test_dataset.data[(test_dataset.targets == 3) | (test_dataset.targets == 7)]\n",
        "test_dataset.targets = test_dataset.targets[(test_dataset.targets == 3) | (test_dataset.targets == 7)]"
      ],
      "metadata": {
        "id": "BNOzIH7Gkb8p"
      },
      "execution_count": 5,
      "outputs": []
    },
    {
      "cell_type": "code",
      "source": [
        "train_dataset.targets = (train_dataset.targets == 7).long()\n",
        "test_dataset.targets = (test_dataset.targets == 7).long()"
      ],
      "metadata": {
        "id": "YPI19FZsrFxb"
      },
      "execution_count": 6,
      "outputs": []
    },
    {
      "cell_type": "code",
      "source": [
        "train_loader = DataLoader(train_dataset, batch_size=128, shuffle=True, drop_last=True)\n",
        "test_loader = DataLoader(test_dataset, batch_size=128, shuffle=False, drop_last=True)"
      ],
      "metadata": {
        "id": "adNJ9-gZkzdD"
      },
      "execution_count": 7,
      "outputs": []
    },
    {
      "cell_type": "code",
      "metadata": {
        "id": "yJSR8hdTN_IO",
        "outputId": "fd23fe9d-f6a2-41ee-f4c1-cd35644f3eec",
        "colab": {
          "base_uri": "https://localhost:8080/"
        }
      },
      "source": [
        "from os.path import samefile\n",
        "### КОД СЮДА ###\n",
        "\n",
        "learning_rate = 0.01\n",
        "epochs = 3\n",
        "\n",
        "batch_size = 128\n",
        "n_feat = 784\n",
        "inner_feat = 500\n",
        "\n",
        "w1 = np.random.rand(n_feat, inner_feat)*0.01 # 784x500\n",
        "b1 = np.zeros(1)\n",
        "w2 = np.random.rand(inner_feat, 1)*0.01 # 500x1\n",
        "b2 = np.zeros(1)\n",
        "\n",
        "losses = []\n",
        "\n",
        "for n_epoch in range(epochs):\n",
        "\n",
        "    print(f'Epoch: {n_epoch + 1}', losses)\n",
        "\n",
        "    for x, y in train_loader:\n",
        "\n",
        "        x = x.view(x.shape[0], -1).numpy() #приводим матрицу признаков к размерности 128x784 (b_s X n_feat)\n",
        "        y = np.expand_dims(y.numpy(), 1) #приводим матрицу лэйблов к размерности 128x1\n",
        "\n",
        "        z1 = (x @ w1) + b1 # 128x500 (b_s X inner_feat)\n",
        "        a1 = 1 / (1 + np.exp(-z1)) # 128x500 (b_s X inner_feat)\n",
        "        z2 = (a1 @ w2) + b2 # 128x1 (b_s X 1)\n",
        "        a2 = 1 / (1 + np.exp(-z2)) # 128x1 (b_s X 1)\n",
        "\n",
        "        bce = (-np.sum(np.multiply(y, np.log(a2)) + np.multiply((1-y), np.log(1-a2)))) / batch_size\n",
        "        losses.append(bce)\n",
        "\n",
        "        # backward\n",
        "        dldp = (1-y)/(1-a2) # 128x1\n",
        "        dpdz2 = np.multiply(a2, (1-a2)) # 128x1\n",
        "        same = np.multiply(dldp, dpdz2) # 128x1\n",
        "        same = a2 - y\n",
        "\n",
        "        dldw2 = a1.T.dot(same) / batch_size # 500x1\n",
        "        dldb2 = np.ones(batch_size).dot(same) / batch_size # 1x\n",
        "\n",
        "        da1dz1 = np.ones((batch_size, inner_feat)) - ((np.exp(z1) - np.exp(-z1)) / (np.exp(z1) + np.exp(-z1))**2)\n",
        "        new_same = np.multiply(same, np.multiply(w2.T, da1dz1)) # 128x500\n",
        "\n",
        "        dldw1 = x.T @ new_same\n",
        "        dldb1 = np.ones((batch_size, batch_size)) @ new_same\n",
        "\n",
        "        # gradient descent\n",
        "        w2 = w2 - learning_rate * dldw2\n",
        "        b2 = b2 - learning_rate * dldb2\n",
        "        w1 = w1 - learning_rate * dldw1\n",
        "        b1 = b1 - learning_rate * dldb1"
      ],
      "execution_count": 80,
      "outputs": [
        {
          "output_type": "stream",
          "name": "stdout",
          "text": [
            "Epoch: 1 []\n",
            "Epoch: 2 [0.9525300490101521, 0.7297178398246396, 0.6291547747955168, 0.6082337298812752, 0.5810195731209744, 0.5420532572160529, 0.5158568441300335, 0.4727006504367192, 0.4483131414858681, 0.41640856518660485, 0.3974928765970663, 0.3513323163152684, 0.34285062016353407, 0.3190424880363779, 0.28654891868414, 0.2661579588734427, 0.21589209481445243, 0.2494569247309273, 0.19924951378653616, 0.2013034799815081, 0.1778196721870562, 0.1416712171269548, 0.19797643510046548, 0.17907941733402213, 0.15183722541425704, 0.1717996374763932, 0.12607797429658452, 0.1412879830715689, 0.12517277470238486, 0.1885970511366455, 0.15093455808047684, 0.15452580265846438, 0.13110365766801052, 0.11252661152316125, 0.1440134715069839, 0.10938060526187593, 0.15634339511986997, 0.10128162779854727, 0.1303535287614884, 0.10498760843359174, 0.09385405059765414, 0.13515897366681912, 0.19421467837540055, 0.11650972006053253, 0.11408137647087319, 0.1478873068834648, 0.1961797936014746, 0.07014117673167482, 0.11545376057023383, 0.10431133315639537, 0.11160034667382454, 0.10541387283891977, 0.07587717260285855, 0.15342477919424077, 0.09515298425576903, 0.10644649228831014, 0.11764406837383348, 0.09445951591754748, 0.09843320765682649, 0.13042967611809245, 0.07312938699404353, 0.10724427606645331, 0.071108659954334, 0.10287615073451142, 0.06031252576841984, 0.09278553214073518, 0.12503279854173022, 0.08407613693110871, 0.07715149414976447, 0.12678297952859846, 0.06809527226813927, 0.09642873243097681, 0.0962669219417003, 0.09316209676434759, 0.10805242383181568, 0.11643478810016894, 0.056733871169885645, 0.08946498196301209, 0.06133545161521002, 0.06952014880742911, 0.11685853111588701, 0.08492851500451465, 0.11732354190143238, 0.06285418071740329, 0.12955897723739107, 0.10995702882904144, 0.13666736209081382, 0.0659257801352176, 0.07938686458466669, 0.1053111552913388, 0.13440969156462235, 0.07658650545431364, 0.10362058353300412, 0.07252654772340317, 0.07031893258365458, 0.04722249089276356]\n",
            "Epoch: 3 [0.9525300490101521, 0.7297178398246396, 0.6291547747955168, 0.6082337298812752, 0.5810195731209744, 0.5420532572160529, 0.5158568441300335, 0.4727006504367192, 0.4483131414858681, 0.41640856518660485, 0.3974928765970663, 0.3513323163152684, 0.34285062016353407, 0.3190424880363779, 0.28654891868414, 0.2661579588734427, 0.21589209481445243, 0.2494569247309273, 0.19924951378653616, 0.2013034799815081, 0.1778196721870562, 0.1416712171269548, 0.19797643510046548, 0.17907941733402213, 0.15183722541425704, 0.1717996374763932, 0.12607797429658452, 0.1412879830715689, 0.12517277470238486, 0.1885970511366455, 0.15093455808047684, 0.15452580265846438, 0.13110365766801052, 0.11252661152316125, 0.1440134715069839, 0.10938060526187593, 0.15634339511986997, 0.10128162779854727, 0.1303535287614884, 0.10498760843359174, 0.09385405059765414, 0.13515897366681912, 0.19421467837540055, 0.11650972006053253, 0.11408137647087319, 0.1478873068834648, 0.1961797936014746, 0.07014117673167482, 0.11545376057023383, 0.10431133315639537, 0.11160034667382454, 0.10541387283891977, 0.07587717260285855, 0.15342477919424077, 0.09515298425576903, 0.10644649228831014, 0.11764406837383348, 0.09445951591754748, 0.09843320765682649, 0.13042967611809245, 0.07312938699404353, 0.10724427606645331, 0.071108659954334, 0.10287615073451142, 0.06031252576841984, 0.09278553214073518, 0.12503279854173022, 0.08407613693110871, 0.07715149414976447, 0.12678297952859846, 0.06809527226813927, 0.09642873243097681, 0.0962669219417003, 0.09316209676434759, 0.10805242383181568, 0.11643478810016894, 0.056733871169885645, 0.08946498196301209, 0.06133545161521002, 0.06952014880742911, 0.11685853111588701, 0.08492851500451465, 0.11732354190143238, 0.06285418071740329, 0.12955897723739107, 0.10995702882904144, 0.13666736209081382, 0.0659257801352176, 0.07938686458466669, 0.1053111552913388, 0.13440969156462235, 0.07658650545431364, 0.10362058353300412, 0.07252654772340317, 0.07031893258365458, 0.04722249089276356, 0.08332747070766003, 0.1267067924405217, 0.03787069308103984, 0.08124987412185578, 0.05995975847580765, 0.11068800576594384, 0.053626126172821156, 0.027070773499979203, 0.08535875586856823, 0.09721966386560718, 0.07165125132314049, 0.07159202399599789, 0.022825134467787514, 0.0827742155320493, 0.049993255769039735, 0.07060964852883768, 0.07702071208073365, 0.11343799056331647, 0.02809199683268831, 0.09294834261240656, 0.1354219633950836, 0.04910856878668287, 0.04940288205112596, 0.13665435588898678, 0.024157334016027984, 0.03146616877426682, 0.11147431192260429, 0.14447423327531658, 0.06979427734607295, 0.10566186238590435, 0.026594038921859166, 0.05859713281768371, 0.02546768540776591, 0.10024573837518658, 0.02976200561344655, 0.06947844836043401, 0.061376990100918336, 0.07975688905299268, 0.14274033864369273, 0.06885290785240329, 0.05497949009731798, 0.08604825664702473, 0.14037420887549534, 0.11318215837694605, 0.13830132454565205, 0.06643437714117542, 0.1562342377237857, 0.11452052416462893, 0.1281212505025022, 0.050021636777334906, 0.03673177814314253, 0.12461465970228856, 0.08066663032673305, 0.07105975382344197, 0.034132739008943744, 0.04444740692380908, 0.04349816504187526, 0.07641791303986126, 0.03378580575460074, 0.07032167229158981, 0.1000677100252518, 0.060429192676312034, 0.08005237532148304, 0.09982038736495763, 0.1246625533153003, 0.03449283458044343, 0.06574427105084571, 0.08265954314520384, 0.07682429817335368, 0.03988718003634452, 0.07652121106341768, 0.07427979903292611, 0.09198988009247458, 0.07592657007595895, 0.08790471962033677, 0.04349382479641503, 0.04603154739725661, 0.06473379586654655, 0.049932660259659215, 0.022863885102011018, 0.04451817904251505, 0.08530287201923295, 0.0820458602475655, 0.06906851232348524, 0.026385981303969075, 0.04367159812533433, 0.15356853537469306, 0.055759347387270876, 0.06771037399682756, 0.12085593988325184, 0.025493181134333794, 0.02358105490656582, 0.08640752640215006, 0.030042570123980553, 0.05104829582276802, 0.04398263448241084]\n"
          ]
        }
      ]
    },
    {
      "cell_type": "code",
      "source": [
        "plt.figure(figsize=(7, 6))\n",
        "plt.plot(losses)\n",
        "plt.grid()\n",
        "plt.title('Training process')\n",
        "plt.xlabel('Iterations')\n",
        "plt.ylabel('Loss function');"
      ],
      "metadata": {
        "colab": {
          "base_uri": "https://localhost:8080/",
          "height": 564
        },
        "id": "a7iCaL-DqxJ4",
        "outputId": "a24ae7f6-db30-4e71-8460-4a2497fba985"
      },
      "execution_count": 78,
      "outputs": [
        {
          "output_type": "display_data",
          "data": {
            "text/plain": [
              "<Figure size 700x600 with 1 Axes>"
            ],
            "image/png": "[encoded data removed]"
          },
          "metadata": {}
        }
      ]
    },
    {
      "cell_type": "code",
      "source": [
        "losses_test = []\n",
        "predicted = []\n",
        "true_lbls = []\n",
        "\n",
        "for x, y in test_loader:\n",
        "\n",
        "  x = x.view(x.shape[0], -1).numpy()\n",
        "  y = np.expand_dims(y.numpy(), 1)\n",
        "\n",
        "  h1 = x.dot(w1) + b1 #переход в одномерное пространство\n",
        "  p = 1/(1+np.exp(-h1)) #преобразование в \"вероятности\"\n",
        "\n",
        "  bce = (-np.sum(np.multiply(np.log(p), y) + np.multiply((1 - y), np.log(1 - p)))) / batch_size\n",
        "  #расчет энтропии с усреднением по размеру бача\n",
        "\n",
        "  losses_test.append(bce)\n",
        "  predicted.extend(p)\n",
        "  true_lbls.extend(y)"
      ],
      "metadata": {
        "id": "RP9MBjYa-kBU",
        "colab": {
          "base_uri": "https://localhost:8080/"
        },
        "outputId": "96469f2a-c213-4363-9051-2a343bfa5ef2"
      },
      "execution_count": 79,
      "outputs": [
        {
          "output_type": "stream",
          "name": "stderr",
          "text": [
            "<ipython-input-79-3856c042f1b2>:13: RuntimeWarning: divide by zero encountered in log\n",
            "  bce = (-np.sum(np.multiply(np.log(p), y) + np.multiply((1 - y), np.log(1 - p)))) / batch_size\n"
          ]
        }
      ]
    },
    {
      "cell_type": "code",
      "source": [],
      "metadata": {
        "id": "4TKXyCGKxaRl"
      },
      "execution_count": null,
      "outputs": []
    }
  ]
}