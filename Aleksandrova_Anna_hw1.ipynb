{
  "nbformat": 4,
  "nbformat_minor": 0,
  "metadata": {
    "accelerator": "GPU",
    "colab": {
      "provenance": []
    },
    "kernelspec": {
      "display_name": "Python 3",
      "language": "python",
      "name": "python3"
    },
    "language_info": {
      "codemirror_mode": {
        "name": "ipython",
        "version": 3
      },
      "file_extension": ".py",
      "mimetype": "text/x-python",
      "name": "python",
      "nbconvert_exporter": "python",
      "pygments_lexer": "ipython3",
      "version": "3.7.3"
    }
  },
  "cells": [
    {
      "cell_type": "markdown",
      "metadata": {
        "id": "P8tDK5A9OCM7"
      },
      "source": [
        "## Домашняя работа №1 Part1\n",
        "Вам предстоит:\n",
        "\n",
        "Написать персептрон с двумя слоями. Реализовать форвард и бэквард пропогейшен\n",
        "\n"
      ]
    },
    {
      "cell_type": "code",
      "metadata": {
        "id": "c5IbKpsMN_F1"
      },
      "source": [
        "import numpy as np\n",
        "from sklearn.metrics import classification_report\n",
        "import torch\n",
        "from torch.utils.data import DataLoader\n",
        "from torchvision.datasets import MNIST\n",
        "from torchvision import transforms\n",
        "import matplotlib.pyplot as plt\n",
        "from tqdm import tqdm\n",
        "from sklearn.metrics import accuracy_score\n",
        "import time"
      ],
      "execution_count": 2,
      "outputs": []
    },
    {
      "cell_type": "markdown",
      "metadata": {
        "id": "zQRYevLNN_GA"
      },
      "source": [
        "# Датасет\n",
        "Загрузим Мнист. Почему именно он? Мы будем решать задачу бинарной классификации на паре цифр: 3 и 7. Плюсы в том, что примеров для этих чисел достаточно, чтобы обучить НС, у каждого примера не так много фичей (28Х28 - размерность картинок) и, в целом, эти классы хорошо отделяются. Я б с радостью показал вам пример с текстами, но если писать НС с нуля и пытаться обучаться на текстах, не факт, что у нас хоть что то обучится :(  \n",
        "  "
      ]
    },
    {
      "cell_type": "markdown",
      "metadata": {
        "id": "EtMN4ZlSN_GC"
      },
      "source": [
        "Торч - объект, который позволяет нормализовать картинки, можно думать о нем как о предобработке (регулярках) для текстов. В целом не стоит здесь долго думать"
      ]
    },
    {
      "cell_type": "code",
      "metadata": {
        "id": "BMugicmkN_GE"
      },
      "source": [
        "transform = transforms.Compose([\n",
        "    transforms.ToTensor(),\n",
        "    transforms.Normalize((0.1307,), (0.3081,))\n",
        "])"
      ],
      "execution_count": 3,
      "outputs": []
    },
    {
      "cell_type": "code",
      "source": [
        "type(transform)"
      ],
      "metadata": {
        "id": "RUvQytT9ifRT",
        "outputId": "89509d3a-4918-460f-d9b8-d76651d5523e",
        "colab": {
          "base_uri": "https://localhost:8080/"
        }
      },
      "execution_count": 4,
      "outputs": [
        {
          "output_type": "execute_result",
          "data": {
            "text/plain": [
              "torchvision.transforms.transforms.Compose"
            ]
          },
          "metadata": {},
          "execution_count": 4
        }
      ]
    },
    {
      "cell_type": "markdown",
      "metadata": {
        "id": "actIVoMKN_GJ"
      },
      "source": [
        "Загружаем датасет. Возращается особенный торчовый класс, чуть ниже мы зададим его сами и научимся им пользоваться, пока оставляем эз из.\n"
      ]
    },
    {
      "cell_type": "code",
      "metadata": {
        "id": "fQpJqIWrN_GK",
        "colab": {
          "base_uri": "https://localhost:8080/"
        },
        "outputId": "5e7e4546-50f7-46a9-9084-57e2aed86864"
      },
      "source": [
        "train_dataset = MNIST('.', train=True, download=True, transform=transform)\n",
        "test_dataset = MNIST('.', train=False, transform=transform)"
      ],
      "execution_count": 5,
      "outputs": [
        {
          "output_type": "stream",
          "name": "stdout",
          "text": [
            "Downloading http://yann.lecun.com/exdb/mnist/train-images-idx3-ubyte.gz\n",
            "Downloading http://yann.lecun.com/exdb/mnist/train-images-idx3-ubyte.gz to ./MNIST/raw/train-images-idx3-ubyte.gz\n"
          ]
        },
        {
          "output_type": "stream",
          "name": "stderr",
          "text": [
            "100%|██████████| 9912422/9912422 [00:00<00:00, 82780071.09it/s]\n"
          ]
        },
        {
          "output_type": "stream",
          "name": "stdout",
          "text": [
            "Extracting ./MNIST/raw/train-images-idx3-ubyte.gz to ./MNIST/raw\n",
            "\n",
            "Downloading http://yann.lecun.com/exdb/mnist/train-labels-idx1-ubyte.gz\n",
            "Downloading http://yann.lecun.com/exdb/mnist/train-labels-idx1-ubyte.gz to ./MNIST/raw/train-labels-idx1-ubyte.gz\n"
          ]
        },
        {
          "output_type": "stream",
          "name": "stderr",
          "text": [
            "100%|██████████| 28881/28881 [00:00<00:00, 7338443.92it/s]\n"
          ]
        },
        {
          "output_type": "stream",
          "name": "stdout",
          "text": [
            "Extracting ./MNIST/raw/train-labels-idx1-ubyte.gz to ./MNIST/raw\n",
            "\n",
            "Downloading http://yann.lecun.com/exdb/mnist/t10k-images-idx3-ubyte.gz\n",
            "Downloading http://yann.lecun.com/exdb/mnist/t10k-images-idx3-ubyte.gz to ./MNIST/raw/t10k-images-idx3-ubyte.gz\n"
          ]
        },
        {
          "output_type": "stream",
          "name": "stderr",
          "text": [
            "100%|██████████| 1648877/1648877 [00:00<00:00, 23321164.72it/s]\n"
          ]
        },
        {
          "output_type": "stream",
          "name": "stdout",
          "text": [
            "Extracting ./MNIST/raw/t10k-images-idx3-ubyte.gz to ./MNIST/raw\n",
            "\n",
            "Downloading http://yann.lecun.com/exdb/mnist/t10k-labels-idx1-ubyte.gz\n",
            "Downloading http://yann.lecun.com/exdb/mnist/t10k-labels-idx1-ubyte.gz to ./MNIST/raw/t10k-labels-idx1-ubyte.gz\n"
          ]
        },
        {
          "output_type": "stream",
          "name": "stderr",
          "text": [
            "100%|██████████| 4542/4542 [00:00<00:00, 23007884.99it/s]\n"
          ]
        },
        {
          "output_type": "stream",
          "name": "stdout",
          "text": [
            "Extracting ./MNIST/raw/t10k-labels-idx1-ubyte.gz to ./MNIST/raw\n",
            "\n"
          ]
        }
      ]
    },
    {
      "cell_type": "markdown",
      "metadata": {
        "id": "aUSUIJbUN_GQ"
      },
      "source": [
        "Выбираем два класса. Если вы достаточно хорошо знакомы с пандас, то можно понять, что никакой магии здесь нет."
      ]
    },
    {
      "cell_type": "code",
      "metadata": {
        "id": "vx73oHg9N_GS"
      },
      "source": [
        "#фильтруем фичи (дата) по значению классификационных лэйблов (таргет), берем или цифру 3, или цифру 7\n",
        "train_dataset.data = train_dataset.data[(train_dataset.targets == 3) | (train_dataset.targets == 7)]\n",
        "train_dataset.targets = train_dataset.targets[(train_dataset.targets == 3) | (train_dataset.targets == 7)]\n",
        "#тоже самое для тестового набора\n",
        "test_dataset.data = test_dataset.data[(test_dataset.targets == 3) | (test_dataset.targets == 7)]\n",
        "test_dataset.targets = test_dataset.targets[(test_dataset.targets == 3) | (test_dataset.targets == 7)]\n",
        "#необходимы препроцессинг лейблов, видимо не все значения имеют тип integer, а нам нужен именно этот тип. функция лонг позволяет нам это сделать\n",
        "#(self.long() is equivalent to self.to(torch.int64). See to())\n",
        "train_dataset.targets = (train_dataset.targets == 7).long()\n",
        "test_dataset.targets = (test_dataset.targets == 7).long()"
      ],
      "execution_count": 6,
      "outputs": []
    },
    {
      "cell_type": "markdown",
      "metadata": {
        "id": "RHelnPG0N_GX"
      },
      "source": [
        "Мы неоднократно говорили, что НС обычно тренируются бачами, в торче есть удобный класс, который позволяет обернуть наши датасеты в итерируемый объект. Если не знаете что такое итерируемый объект, погуглите :) можно думать об этом как о списке с составными элементами (элемент - батч - набор примеров)"
      ]
    },
    {
      "cell_type": "code",
      "metadata": {
        "id": "ENLomAueN_GZ"
      },
      "source": [
        "train_loader = DataLoader(train_dataset, batch_size=128, shuffle=True, drop_last=True)\n",
        "test_loader = DataLoader(test_dataset, batch_size=128, shuffle=False, drop_last=True)"
      ],
      "execution_count": 28,
      "outputs": []
    },
    {
      "cell_type": "code",
      "metadata": {
        "id": "rdvq5scBXtWY",
        "outputId": "073ca1a1-579e-455c-92c9-2813d3c03bad",
        "colab": {
          "base_uri": "https://localhost:8080/"
        }
      },
      "source": [
        "X, y = next(iter(train_loader)) #next(iter(x) - Возвращает следующий элемент итератора.\n",
        "X"
      ],
      "execution_count": 29,
      "outputs": [
        {
          "output_type": "execute_result",
          "data": {
            "text/plain": [
              "tensor([[[[-0.4242, -0.4242, -0.4242,  ..., -0.4242, -0.4242, -0.4242],\n",
              "          [-0.4242, -0.4242, -0.4242,  ..., -0.4242, -0.4242, -0.4242],\n",
              "          [-0.4242, -0.4242, -0.4242,  ..., -0.4242, -0.4242, -0.4242],\n",
              "          ...,\n",
              "          [-0.4242, -0.4242, -0.4242,  ..., -0.4242, -0.4242, -0.4242],\n",
              "          [-0.4242, -0.4242, -0.4242,  ..., -0.4242, -0.4242, -0.4242],\n",
              "          [-0.4242, -0.4242, -0.4242,  ..., -0.4242, -0.4242, -0.4242]]],\n",
              "\n",
              "\n",
              "        [[[-0.4242, -0.4242, -0.4242,  ..., -0.4242, -0.4242, -0.4242],\n",
              "          [-0.4242, -0.4242, -0.4242,  ..., -0.4242, -0.4242, -0.4242],\n",
              "          [-0.4242, -0.4242, -0.4242,  ..., -0.4242, -0.4242, -0.4242],\n",
              "          ...,\n",
              "          [-0.4242, -0.4242, -0.4242,  ..., -0.4242, -0.4242, -0.4242],\n",
              "          [-0.4242, -0.4242, -0.4242,  ..., -0.4242, -0.4242, -0.4242],\n",
              "          [-0.4242, -0.4242, -0.4242,  ..., -0.4242, -0.4242, -0.4242]]],\n",
              "\n",
              "\n",
              "        [[[-0.4242, -0.4242, -0.4242,  ..., -0.4242, -0.4242, -0.4242],\n",
              "          [-0.4242, -0.4242, -0.4242,  ..., -0.4242, -0.4242, -0.4242],\n",
              "          [-0.4242, -0.4242, -0.4242,  ..., -0.4242, -0.4242, -0.4242],\n",
              "          ...,\n",
              "          [-0.4242, -0.4242, -0.4242,  ..., -0.4242, -0.4242, -0.4242],\n",
              "          [-0.4242, -0.4242, -0.4242,  ..., -0.4242, -0.4242, -0.4242],\n",
              "          [-0.4242, -0.4242, -0.4242,  ..., -0.4242, -0.4242, -0.4242]]],\n",
              "\n",
              "\n",
              "        ...,\n",
              "\n",
              "\n",
              "        [[[-0.4242, -0.4242, -0.4242,  ..., -0.4242, -0.4242, -0.4242],\n",
              "          [-0.4242, -0.4242, -0.4242,  ..., -0.4242, -0.4242, -0.4242],\n",
              "          [-0.4242, -0.4242, -0.4242,  ..., -0.4242, -0.4242, -0.4242],\n",
              "          ...,\n",
              "          [-0.4242, -0.4242, -0.4242,  ..., -0.4242, -0.4242, -0.4242],\n",
              "          [-0.4242, -0.4242, -0.4242,  ..., -0.4242, -0.4242, -0.4242],\n",
              "          [-0.4242, -0.4242, -0.4242,  ..., -0.4242, -0.4242, -0.4242]]],\n",
              "\n",
              "\n",
              "        [[[-0.4242, -0.4242, -0.4242,  ..., -0.4242, -0.4242, -0.4242],\n",
              "          [-0.4242, -0.4242, -0.4242,  ..., -0.4242, -0.4242, -0.4242],\n",
              "          [-0.4242, -0.4242, -0.4242,  ..., -0.4242, -0.4242, -0.4242],\n",
              "          ...,\n",
              "          [-0.4242, -0.4242, -0.4242,  ..., -0.4242, -0.4242, -0.4242],\n",
              "          [-0.4242, -0.4242, -0.4242,  ..., -0.4242, -0.4242, -0.4242],\n",
              "          [-0.4242, -0.4242, -0.4242,  ..., -0.4242, -0.4242, -0.4242]]],\n",
              "\n",
              "\n",
              "        [[[-0.4242, -0.4242, -0.4242,  ..., -0.4242, -0.4242, -0.4242],\n",
              "          [-0.4242, -0.4242, -0.4242,  ..., -0.4242, -0.4242, -0.4242],\n",
              "          [-0.4242, -0.4242, -0.4242,  ..., -0.4242, -0.4242, -0.4242],\n",
              "          ...,\n",
              "          [-0.4242, -0.4242, -0.4242,  ..., -0.4242, -0.4242, -0.4242],\n",
              "          [-0.4242, -0.4242, -0.4242,  ..., -0.4242, -0.4242, -0.4242],\n",
              "          [-0.4242, -0.4242, -0.4242,  ..., -0.4242, -0.4242, -0.4242]]]])"
            ]
          },
          "metadata": {},
          "execution_count": 29
        }
      ]
    },
    {
      "cell_type": "code",
      "metadata": {
        "id": "SAaI0uHWYUrb",
        "outputId": "d87bdbd8-eed9-4f2b-a021-2c30ca51cb56",
        "colab": {
          "base_uri": "https://localhost:8080/"
        }
      },
      "source": [
        "y"
      ],
      "execution_count": 30,
      "outputs": [
        {
          "output_type": "execute_result",
          "data": {
            "text/plain": [
              "tensor([1, 0, 1, 1, 0, 1, 1, 1, 1, 0, 1, 1, 0, 0, 0, 1, 0, 0, 0, 1, 1, 1, 1, 0,\n",
              "        0, 1, 1, 1, 1, 1, 1, 1, 0, 0, 0, 1, 1, 0, 0, 1, 0, 0, 1, 1, 1, 0, 1, 1,\n",
              "        1, 1, 1, 1, 0, 0, 0, 1, 0, 0, 0, 0, 1, 0, 0, 1, 0, 0, 0, 1, 0, 0, 1, 0,\n",
              "        1, 1, 1, 1, 1, 1, 1, 0, 0, 1, 0, 0, 1, 0, 1, 0, 1, 1, 0, 1, 1, 1, 1, 1,\n",
              "        1, 0, 0, 0, 0, 0, 0, 0, 0, 0, 0, 0, 0, 0, 0, 1, 1, 0, 0, 1, 0, 0, 1, 1,\n",
              "        0, 1, 1, 0, 0, 0, 0, 0])"
            ]
          },
          "metadata": {},
          "execution_count": 30
        }
      ]
    },
    {
      "cell_type": "markdown",
      "metadata": {
        "id": "KPw6jv5hYXhV"
      },
      "source": [
        "Никакой магии, просто многомерные матрицы. Можно даже проверить, что то, что мы получили, то есть первый батч имеет правильную размерность. В y - 1 это класс цифры \"7\", 0 - \"3\""
      ]
    },
    {
      "cell_type": "code",
      "metadata": {
        "id": "mQH1_6dSYlnW",
        "outputId": "e95c5ae0-1e5d-451b-b80a-18d818a35b0b",
        "colab": {
          "base_uri": "https://localhost:8080/"
        }
      },
      "source": [
        "X.shape #128 - примеров, [1, 28, 28] - размерность картинки, 1 - значит что из трех каналов (Р, Г, Б) у нас всего один, а сама картинка 28 на 28"
      ],
      "execution_count": 31,
      "outputs": [
        {
          "output_type": "execute_result",
          "data": {
            "text/plain": [
              "torch.Size([128, 1, 28, 28])"
            ]
          },
          "metadata": {},
          "execution_count": 31
        }
      ]
    },
    {
      "cell_type": "code",
      "metadata": {
        "id": "yGAYt4oqYpW5",
        "outputId": "787bce4b-2292-4115-e0e9-9dabdb03d091",
        "colab": {
          "base_uri": "https://localhost:8080/"
        }
      },
      "source": [
        "y.shape"
      ],
      "execution_count": 32,
      "outputs": [
        {
          "output_type": "execute_result",
          "data": {
            "text/plain": [
              "torch.Size([128])"
            ]
          },
          "metadata": {},
          "execution_count": 32
        }
      ]
    },
    {
      "cell_type": "markdown",
      "metadata": {
        "id": "CNVEJYNXN_Gd"
      },
      "source": [
        "Проверим, правда ли это картинки"
      ]
    },
    {
      "cell_type": "code",
      "metadata": {
        "id": "-Kkv2jAKN_Ge",
        "outputId": "fb4cfbb1-431a-483c-c798-6c2e94d6f797",
        "colab": {
          "base_uri": "https://localhost:8080/",
          "height": 139
        }
      },
      "source": [
        "X, y = next(iter(train_loader))\n",
        "X = X.numpy() # перевод тензора в массив нумпай, просто изменение типа данных\n",
        "y = y.numpy()\n",
        "\n",
        "plt.figure(figsize=(6, 7))\n",
        "for i in range(5):\n",
        "    plt.subplot(5, 5, i+1)\n",
        "    plt.imshow(X[i].reshape(28, 28), cmap=plt.cm.Greys_r)\n",
        "    plt.title(y[i])\n",
        "    plt.axis('off')"
      ],
      "execution_count": 33,
      "outputs": [
        {
          "output_type": "display_data",
          "data": {
            "text/plain": [
              "<Figure size 600x700 with 5 Axes>"
            ],
            "image/png": "[encoded data removed]"
          },
          "metadata": {}
        }
      ]
    },
    {
      "cell_type": "markdown",
      "metadata": {
        "id": "jL6Cd-7tb29_"
      },
      "source": [
        "Нам столько размерностей не нужно, поэтому давайте выпрямим матрицу, тем более, что мы знаем что значение каждого пикселя независимо друг друга."
      ]
    },
    {
      "cell_type": "code",
      "source": [
        "X, y = next(iter(train_loader))"
      ],
      "metadata": {
        "id": "Akl425c3u2Dl"
      },
      "execution_count": 34,
      "outputs": []
    },
    {
      "cell_type": "code",
      "metadata": {
        "id": "tDiEEUYJN_G6",
        "outputId": "bf286d87-40cc-4145-b428-cfc0fcd47b11",
        "colab": {
          "base_uri": "https://localhost:8080/"
        }
      },
      "source": [
        "X = X.view(X.shape[0], -1)\n",
        "X.shape"
      ],
      "execution_count": 35,
      "outputs": [
        {
          "output_type": "execute_result",
          "data": {
            "text/plain": [
              "torch.Size([128, 784])"
            ]
          },
          "metadata": {},
          "execution_count": 35
        }
      ]
    },
    {
      "cell_type": "markdown",
      "metadata": {
        "id": "6_m0y3z9N_HN"
      },
      "source": [
        " Размерность\n",
        "- количество примеров в батче\n",
        "- количество фичей"
      ]
    },
    {
      "cell_type": "code",
      "metadata": {
        "id": "0rRs_fibN_HX",
        "outputId": "cdea57ed-311c-4c5f-c38c-1853d387e81a",
        "colab": {
          "base_uri": "https://localhost:8080/"
        }
      },
      "source": [
        "y"
      ],
      "execution_count": 36,
      "outputs": [
        {
          "output_type": "execute_result",
          "data": {
            "text/plain": [
              "tensor([0, 0, 1, 1, 1, 1, 0, 1, 1, 0, 1, 0, 1, 1, 0, 1, 1, 0, 0, 1, 0, 0, 0, 0,\n",
              "        0, 0, 0, 0, 0, 1, 1, 0, 1, 0, 1, 1, 0, 0, 1, 0, 1, 1, 1, 1, 0, 0, 1, 0,\n",
              "        1, 1, 0, 1, 0, 0, 1, 1, 0, 1, 0, 0, 1, 1, 0, 0, 1, 0, 1, 0, 0, 0, 0, 1,\n",
              "        0, 1, 0, 0, 0, 1, 1, 0, 0, 0, 1, 1, 0, 0, 0, 0, 0, 0, 1, 1, 0, 0, 0, 0,\n",
              "        0, 1, 1, 0, 1, 0, 1, 0, 1, 1, 1, 0, 0, 1, 0, 0, 0, 0, 1, 0, 0, 1, 1, 1,\n",
              "        0, 0, 0, 1, 1, 0, 0, 1])"
            ]
          },
          "metadata": {},
          "execution_count": 36
        }
      ]
    },
    {
      "cell_type": "markdown",
      "metadata": {
        "id": "Z4vTsvPZdPQg"
      },
      "source": [
        "Такой У нам не совсем подходит. Сейчас объясню почему. Размерность Х (128,784) матрично перемножим на скрытый слой (784,1) и получится (128,1). Нужно понимать, что размерность (128,) и (128,1) это немного разные вещи  "
      ]
    },
    {
      "cell_type": "code",
      "metadata": {
        "id": "98g7689ON_Hc",
        "outputId": "6f6ef50d-fc72-4a95-b02b-78546e1f44c0",
        "colab": {
          "base_uri": "https://localhost:8080/"
        }
      },
      "source": [
        "w = torch.rand(784, 1) #Рандомные необученые веса\n",
        "pred = X.matmul(w)\n",
        "print('y ', y.shape, '\\nX ', X.shape, '\\nw ', w.shape, '\\npred', pred.shape)"
      ],
      "execution_count": 37,
      "outputs": [
        {
          "output_type": "stream",
          "name": "stdout",
          "text": [
            "y  torch.Size([128]) \n",
            "X  torch.Size([128, 784]) \n",
            "w  torch.Size([784, 1]) \n",
            "pred torch.Size([128, 1])\n"
          ]
        }
      ]
    },
    {
      "cell_type": "code",
      "metadata": {
        "id": "KG9L5xtJd9TQ",
        "outputId": "692508cf-05af-4a82-dfba-b4092e5e75ac",
        "colab": {
          "base_uri": "https://localhost:8080/"
        }
      },
      "source": [
        "pred"
      ],
      "execution_count": 38,
      "outputs": [
        {
          "output_type": "execute_result",
          "data": {
            "text/plain": [
              "tensor([[ 37.3523],\n",
              "        [ 78.8025],\n",
              "        [ 20.6792],\n",
              "        [-69.1860],\n",
              "        [ 23.8074],\n",
              "        [ 10.8180],\n",
              "        [ 29.8540],\n",
              "        [-19.3308],\n",
              "        [-42.9789],\n",
              "        [  8.1823],\n",
              "        [-31.1595],\n",
              "        [-26.9287],\n",
              "        [ -6.7260],\n",
              "        [-47.0846],\n",
              "        [-23.8451],\n",
              "        [ 78.6842],\n",
              "        [-79.4953],\n",
              "        [-65.6462],\n",
              "        [-31.9404],\n",
              "        [  2.8956],\n",
              "        [ 55.1567],\n",
              "        [  7.5410],\n",
              "        [ 15.5585],\n",
              "        [ 10.6184],\n",
              "        [ -0.2906],\n",
              "        [-34.2442],\n",
              "        [-22.5045],\n",
              "        [ -7.0187],\n",
              "        [ 69.5160],\n",
              "        [-21.8642],\n",
              "        [  1.0737],\n",
              "        [  7.8995],\n",
              "        [-56.0320],\n",
              "        [-12.2170],\n",
              "        [ 13.1839],\n",
              "        [-37.6638],\n",
              "        [ 19.0151],\n",
              "        [ -0.3705],\n",
              "        [-19.4716],\n",
              "        [ 46.8440],\n",
              "        [-17.7538],\n",
              "        [  0.3745],\n",
              "        [-18.3397],\n",
              "        [-19.5130],\n",
              "        [ 98.6861],\n",
              "        [ 33.8010],\n",
              "        [-22.5077],\n",
              "        [101.0253],\n",
              "        [-48.2330],\n",
              "        [ -9.6506],\n",
              "        [  5.2038],\n",
              "        [  8.0479],\n",
              "        [ 61.8511],\n",
              "        [ 19.5343],\n",
              "        [-21.0536],\n",
              "        [ -5.6117],\n",
              "        [ 65.2414],\n",
              "        [-85.5870],\n",
              "        [-22.7906],\n",
              "        [-68.6888],\n",
              "        [-33.6674],\n",
              "        [ 81.2249],\n",
              "        [ 49.3575],\n",
              "        [-10.4993],\n",
              "        [ 57.7516],\n",
              "        [ 35.1818],\n",
              "        [ 16.1580],\n",
              "        [ -4.6711],\n",
              "        [ 59.6617],\n",
              "        [ -9.6770],\n",
              "        [ 45.0401],\n",
              "        [-51.8825],\n",
              "        [ -6.2074],\n",
              "        [  3.9923],\n",
              "        [ 29.8402],\n",
              "        [ 33.7469],\n",
              "        [ 22.0371],\n",
              "        [-36.6955],\n",
              "        [  7.3372],\n",
              "        [  4.6157],\n",
              "        [ 47.6496],\n",
              "        [-53.3429],\n",
              "        [ -7.1299],\n",
              "        [-45.1024],\n",
              "        [ 22.9938],\n",
              "        [-15.9822],\n",
              "        [-42.0827],\n",
              "        [ -4.1358],\n",
              "        [ 37.3963],\n",
              "        [ 62.5051],\n",
              "        [-60.6993],\n",
              "        [ 47.9134],\n",
              "        [-24.1893],\n",
              "        [ 52.7133],\n",
              "        [ 74.6091],\n",
              "        [ 14.3025],\n",
              "        [  7.6227],\n",
              "        [  2.3849],\n",
              "        [-48.6963],\n",
              "        [-22.3037],\n",
              "        [ 27.6012],\n",
              "        [ 17.1722],\n",
              "        [  7.5372],\n",
              "        [ 29.2541],\n",
              "        [ 27.9778],\n",
              "        [-48.8338],\n",
              "        [-26.1554],\n",
              "        [ 14.2586],\n",
              "        [ 76.4618],\n",
              "        [-55.8667],\n",
              "        [-44.7657],\n",
              "        [ 19.7514],\n",
              "        [ 34.0833],\n",
              "        [-12.7311],\n",
              "        [-13.7399],\n",
              "        [ 81.4007],\n",
              "        [-14.2146],\n",
              "        [-63.7583],\n",
              "        [-42.5693],\n",
              "        [  5.3004],\n",
              "        [-27.3788],\n",
              "        [-54.3789],\n",
              "        [ 40.6067],\n",
              "        [-67.7014],\n",
              "        [-44.7633],\n",
              "        [110.6606],\n",
              "        [185.3474],\n",
              "        [-11.4556]])"
            ]
          },
          "metadata": {},
          "execution_count": 38
        }
      ]
    },
    {
      "cell_type": "markdown",
      "metadata": {
        "id": "Rb1hswcGeEpc"
      },
      "source": [
        "Теперь у нас есть предсказания и их размерность (128,1). Нужно будет считать лосс с у, поэтому приведем его к такой же размерности с expand_dims - это функция есть в нумпае, также есть и в торче"
      ]
    },
    {
      "cell_type": "code",
      "metadata": {
        "id": "wAIFQMfwN_Hl"
      },
      "source": [
        "y = np.expand_dims(y, 1)"
      ],
      "execution_count": 39,
      "outputs": []
    },
    {
      "cell_type": "markdown",
      "metadata": {
        "id": "TFAKpwY_N_H_"
      },
      "source": [
        "Итерация по эпохам"
      ]
    },
    {
      "cell_type": "code",
      "metadata": {
        "id": "DWmQFlyWN_IB",
        "outputId": "ee137458-f8eb-41f9-c07b-2a49d2bb333b",
        "colab": {
          "base_uri": "https://localhost:8080/"
        }
      },
      "source": [
        "epochs = 3\n",
        "\n",
        "for n_epoch in range(epochs):\n",
        "\n",
        "    dataset_passed_samples = 0\n",
        "\n",
        "    for x, y in train_loader:\n",
        "\n",
        "        # вот здесь мы могли бы как-то манипулировать с данными, например, учить, но пока этого делать не будем\n",
        "\n",
        "        #time.sleep(0.05)\n",
        "\n",
        "        dataset_passed_samples += x.shape[0]\n",
        "\n",
        "        dataset_passed_percent = dataset_passed_samples * 100 / train_loader.dataset.data.shape[0]\n",
        "\n",
        "        print(f'Эпоха - {n_epoch + 1}, прошли - {dataset_passed_percent:.2f} % датасета', end='\\r')\n",
        "\n",
        "    print('\\r')"
      ],
      "execution_count": 40,
      "outputs": [
        {
          "output_type": "stream",
          "name": "stdout",
          "text": [
            "Эпоха - 1, прошли - 99.13 % датасета\n",
            "Эпоха - 2, прошли - 99.13 % датасета\n",
            "Эпоха - 3, прошли - 99.13 % датасета\n"
          ]
        }
      ]
    },
    {
      "cell_type": "markdown",
      "metadata": {
        "id": "8iBd9MS_f7Eg"
      },
      "source": [
        "# Однослойный персептрон"
      ]
    },
    {
      "cell_type": "code",
      "source": [
        "np.zeros(1)"
      ],
      "metadata": {
        "id": "dw7o5yCl5OJS",
        "outputId": "1c8c0dda-403c-4d93-83e6-a2fd3f27ba4a",
        "colab": {
          "base_uri": "https://localhost:8080/"
        }
      },
      "execution_count": 41,
      "outputs": [
        {
          "output_type": "execute_result",
          "data": {
            "text/plain": [
              "array([0.])"
            ]
          },
          "metadata": {},
          "execution_count": 41
        }
      ]
    },
    {
      "cell_type": "code",
      "source": [
        "a = [1, 2, 3]\n",
        "a = np.array(a)\n",
        "b = np.exp(a)\n",
        "c = np.exp(-a)\n",
        "b, c"
      ],
      "metadata": {
        "id": "pMLsuHGXBIYq",
        "outputId": "d138ac30-2bf0-480c-d18f-d87ebc0dc385",
        "colab": {
          "base_uri": "https://localhost:8080/"
        }
      },
      "execution_count": 42,
      "outputs": [
        {
          "output_type": "execute_result",
          "data": {
            "text/plain": [
              "(array([ 2.71828183,  7.3890561 , 20.08553692]),\n",
              " array([0.36787944, 0.13533528, 0.04978707]))"
            ]
          },
          "metadata": {},
          "execution_count": 42
        }
      ]
    },
    {
      "cell_type": "code",
      "metadata": {
        "id": "x9wKt3z1gIo7",
        "outputId": "11f0d69f-643a-456e-8caa-dfe3e966e178",
        "colab": {
          "base_uri": "https://localhost:8080/"
        }
      },
      "source": [
        "learning_rate = 0.01  #тот самый лернинг рейт, который определяет какую часть от градиента мы будем брать\n",
        "epochs = 5  #сколько раз мы пройдем по всему тренировочному набору наших данных\n",
        "\n",
        "batch_size = 128  #это число примеров в баче понадобится нам при обучении чтобы усреднять лосс (ошибку обучения)\n",
        "n_feat = 784\n",
        "\n",
        "w1 = np.random.rand(n_feat, 1)*0.01  #0.01 - нормируем таким образом наши веса, чтобы избежать деления на ноль при бэкпропе,\n",
        "                                    #эмпирически выбрано, так как сами фичи у нас имеют значения близкие к 0\n",
        "\n",
        "b1 = np.zeros(1) #размерность должна совпадать с количеством параметров, которые у нас останутся после матричного перемножения\n",
        "\n",
        "losses = [] #на каждой итерации (и для всех эпох) будем сохранять сюда наш Лосс, чтобы видеть обучается ли НС\n",
        "\n",
        "for n_epoch in range(epochs):\n",
        "\n",
        "    print(f'Epoch: {n_epoch + 1}', losses)\n",
        "\n",
        "    for x, y in train_loader:\n",
        "\n",
        "        x = x.view(x.shape[0], -1).numpy() #приводим к размерности (128,784)\n",
        "        y = np.expand_dims(y.numpy(), 1) #приводим к размерности (128,1)\n",
        "\n",
        "        print(x.shape, w1.shape)\n",
        "        h1 = x @ w1 + b1 #переход в одномерное пространство\n",
        "        p = 1/(1+np.exp(-h1)) #преобразование в \"вероятности\" (формула сигмоиды)\n",
        "\n",
        "        bce = (-np.sum(np.multiply(np.log(p), y) + np.multiply((1 - y), np.log(1 - p)))) / batch_size\n",
        "        #расчет энтропии с усреднением по размеру бача\n",
        "\n",
        "        losses.append(bce)\n",
        "        #ниже производная bce и sigmoid, если вы распишите две этих производные, перемножите и сократите, то получится следующая строчка\n",
        "        dp = (p - y) / batch_size\n",
        "        dw1 = np.dot(x.T, dp) # производная по линейному преобразованию, относительно W - весов\n",
        "        db1 = np.sum(dp) # производная по лин преобразованию относительно В - баяса,\n",
        "        #здесь по идее должно быть перемножение на единичный вектор (128,1), но это тоже самое что и сумма значение, типа лайф хак\n",
        "\n",
        "        w1 -= learning_rate * dw1 # Обновим веса и баясы\n",
        "        b1 -= learning_rate * db1\n",
        "        break\n",
        "    break"
      ],
      "execution_count": 43,
      "outputs": [
        {
          "output_type": "stream",
          "name": "stdout",
          "text": [
            "Epoch: 1 []\n",
            "(128, 784) (784, 1)\n"
          ]
        }
      ]
    },
    {
      "cell_type": "markdown",
      "metadata": {
        "id": "Lc3-pw-4wMum"
      },
      "source": [
        "А теперь построим график функции потерь"
      ]
    },
    {
      "cell_type": "code",
      "metadata": {
        "id": "NvB4U5OXhE3t",
        "outputId": "5d2a08cb-aaa2-4b0f-88f6-b51269e3c919",
        "colab": {
          "base_uri": "https://localhost:8080/",
          "height": 427
        }
      },
      "source": [
        "plt.figure(figsize=(5, 4))\n",
        "plt.plot(losses)\n",
        "plt.grid()\n",
        "plt.title('Training process')\n",
        "plt.xlabel('Iterations')\n",
        "plt.ylabel('Loss function')"
      ],
      "execution_count": 44,
      "outputs": [
        {
          "output_type": "execute_result",
          "data": {
            "text/plain": [
              "Text(0, 0.5, 'Loss function')"
            ]
          },
          "metadata": {},
          "execution_count": 44
        },
        {
          "output_type": "display_data",
          "data": {
            "text/plain": [
              "<Figure size 500x400 with 1 Axes>"
            ],
            "image/png": "[encoded data removed]"
          },
          "metadata": {}
        }
      ]
    },
    {
      "cell_type": "markdown",
      "metadata": {
        "id": "IfpCVrN2tO5S"
      },
      "source": [
        "## Математика\n",
        "\n",
        "![alt text](https://sun9-39.userapi.com/c850608/v850608777/47a4/fgZlI898IUU.jpg)\n",
        "![alt text](https://sun9-41.userapi.com/c858216/v858216777/cc4f5/v3CPa-tnm80.jpg)\n",
        "![alt text](https://sun9-67.userapi.com/c857632/v857632471/f6e95/H0dsmWsUInc.jpg)\n",
        "![alt text](https://sun9-71.userapi.com/c858120/v858120274/10d0ef/hdKO-3Syk3g.jpg)\n",
        "\n"
      ]
    },
    {
      "cell_type": "markdown",
      "metadata": {
        "id": "ToNAC3-bN_IN"
      },
      "source": [
        "А теперь ваша очередь, нужно написать двуслоный персептрон, согласно коду и выкладкам выше"
      ]
    },
    {
      "cell_type": "code",
      "metadata": {
        "outputId": "02933b76-4353-411e-b178-82a9ad12a009",
        "colab": {
          "base_uri": "https://localhost:8080/"
        },
        "id": "wy1wxjvnxv6A"
      },
      "source": [
        "from os.path import samefile\n",
        "### КОД СЮДА ###\n",
        "\n",
        "learning_rate = 0.01  #если поставить 0.1, график лоссов получается получается посимпатичнее, но я решила так оставить\n",
        "epochs = 3\n",
        "\n",
        "batch_size = 128\n",
        "n_feat = 784\n",
        "inner_feat = 500\n",
        "\n",
        "w1 = np.random.rand(n_feat, inner_feat)*0.01 # 784x500\n",
        "b1 = np.zeros(1)\n",
        "w2 = np.random.rand(inner_feat, 1)*0.01 # 500x1\n",
        "b2 = np.zeros(1)\n",
        "\n",
        "losses = []\n",
        "my_predicted = []\n",
        "my_true_labels = []\n",
        "\n",
        "for n_epoch in range(epochs):\n",
        "\n",
        "    print(f'Epoch: {n_epoch + 1}', losses)\n",
        "\n",
        "    for x, y in train_loader:\n",
        "\n",
        "        x = x.view(x.shape[0], -1).numpy() #приводим матрицу признаков к размерности 128x784 (b_s X n_feat)\n",
        "        y = np.expand_dims(y.numpy(), 1) #приводим матрицу лэйблов к размерности 128x1\n",
        "\n",
        "        z1 = (x @ w1) + b1 # 128x500 (b_s X inner_feat)\n",
        "        a1 = 1 / (1 + np.exp(-z1)) # 128x500 (b_s X inner_feat)\n",
        "        z2 = (a1 @ w2) + b2 # 128x1 (b_s X 1)\n",
        "        a2 = 1 / (1 + np.exp(-z2)) # 128x1 (b_s X 1)\n",
        "\n",
        "        bce = (-np.sum(np.multiply(y, np.log(a2)) + np.multiply((1-y), np.log(1-a2)))) / batch_size\n",
        "        losses.append(bce)\n",
        "        my_predicted.extend(a2)\n",
        "        my_true_labels.extend(y)\n",
        "\n",
        "        # backward\n",
        "        same = a2 - y\n",
        "\n",
        "        dldw2 = a1.T.dot(same) / batch_size # 500x1\n",
        "        dldb2 = np.ones(batch_size).dot(same) / batch_size # 1x\n",
        "\n",
        "        da1dz1 = np.ones((batch_size, inner_feat)) - ((np.exp(z1) - np.exp(-z1)) / (np.exp(z1) + np.exp(-z1))**2)\n",
        "        new_same = np.multiply(same, np.multiply(w2.T, da1dz1)) # 128x500\n",
        "\n",
        "        dldw1 = x.T @ new_same\n",
        "        dldb1 = np.ones((batch_size, batch_size)) @ new_same\n",
        "\n",
        "        # gradient descent\n",
        "        w2 = w2 - learning_rate * dldw2\n",
        "        b2 = b2 - learning_rate * dldb2\n",
        "        w1 = w1 - learning_rate * dldw1\n",
        "        b1 = b1 - learning_rate * dldb1"
      ],
      "execution_count": 105,
      "outputs": [
        {
          "output_type": "stream",
          "name": "stdout",
          "text": [
            "Epoch: 1 []\n",
            "Epoch: 2 [0.9271131389275958, 0.6696196121230318, 0.6501813248515422, 0.616534017541807, 0.6001040118095982, 0.5507063870330595, 0.5034091413432102, 0.47633380916202595, 0.4198649648967423, 0.40780647186396324, 0.3852401226100226, 0.36023094848398385, 0.3300490317719885, 0.3382704664520908, 0.2951189585363538, 0.26962993854053285, 0.25017782473989497, 0.23802367325304108, 0.24929045754822649, 0.22976825951231666, 0.18464033780293573, 0.1897411485448298, 0.1577747578421669, 0.2004183549555973, 0.16369158676821807, 0.17634462681421315, 0.15807292667652587, 0.18785446862798627, 0.19458110447001986, 0.14909931600697096, 0.16650456760402482, 0.18041516602819643, 0.0976946285142404, 0.1942169901673929, 0.09153562682547878, 0.15790811965966128, 0.14111159732642042, 0.08969391617931918, 0.1250851377886038, 0.09342670570642755, 0.15126553823095423, 0.08606937053633862, 0.12732324012052582, 0.08917555602086456, 0.08474609311105431, 0.12348236747349771, 0.11780584997218976, 0.1422595214743762, 0.14171670913085754, 0.11994330396894205, 0.092101802653897, 0.08871633229201314, 0.12219144714033875, 0.07333972274201844, 0.08608525187040275, 0.10116004028042819, 0.0902003504437785, 0.0961683229552221, 0.05478077732060198, 0.08876803211624468, 0.08502758950205337, 0.156541938807202, 0.0796844175705528, 0.09155860853135087, 0.037677347868626684, 0.06766857707264973, 0.0762309946436159, 0.048460689177693396, 0.056481173516695266, 0.0845357422420198, 0.07370000297021967, 0.13701220252264698, 0.06060660360991854, 0.07550812090483355, 0.07569185618558466, 0.051581492651984404, 0.12974368117060062, 0.12409309952634787, 0.07201013223591875, 0.08526923925557486, 0.048553200703071765, 0.06693633920873568, 0.0867390113454319, 0.08051368886662098, 0.10054022554837541, 0.0883231448825097, 0.10084729490631614, 0.03213800641572973, 0.0668054657327169, 0.05538523168041022, 0.10264197624923327, 0.06381740285536402, 0.09170748753029534, 0.055701834410138144, 0.05008026791513282, 0.13441908181404666]\n",
            "Epoch: 3 [0.9271131389275958, 0.6696196121230318, 0.6501813248515422, 0.616534017541807, 0.6001040118095982, 0.5507063870330595, 0.5034091413432102, 0.47633380916202595, 0.4198649648967423, 0.40780647186396324, 0.3852401226100226, 0.36023094848398385, 0.3300490317719885, 0.3382704664520908, 0.2951189585363538, 0.26962993854053285, 0.25017782473989497, 0.23802367325304108, 0.24929045754822649, 0.22976825951231666, 0.18464033780293573, 0.1897411485448298, 0.1577747578421669, 0.2004183549555973, 0.16369158676821807, 0.17634462681421315, 0.15807292667652587, 0.18785446862798627, 0.19458110447001986, 0.14909931600697096, 0.16650456760402482, 0.18041516602819643, 0.0976946285142404, 0.1942169901673929, 0.09153562682547878, 0.15790811965966128, 0.14111159732642042, 0.08969391617931918, 0.1250851377886038, 0.09342670570642755, 0.15126553823095423, 0.08606937053633862, 0.12732324012052582, 0.08917555602086456, 0.08474609311105431, 0.12348236747349771, 0.11780584997218976, 0.1422595214743762, 0.14171670913085754, 0.11994330396894205, 0.092101802653897, 0.08871633229201314, 0.12219144714033875, 0.07333972274201844, 0.08608525187040275, 0.10116004028042819, 0.0902003504437785, 0.0961683229552221, 0.05478077732060198, 0.08876803211624468, 0.08502758950205337, 0.156541938807202, 0.0796844175705528, 0.09155860853135087, 0.037677347868626684, 0.06766857707264973, 0.0762309946436159, 0.048460689177693396, 0.056481173516695266, 0.0845357422420198, 0.07370000297021967, 0.13701220252264698, 0.06060660360991854, 0.07550812090483355, 0.07569185618558466, 0.051581492651984404, 0.12974368117060062, 0.12409309952634787, 0.07201013223591875, 0.08526923925557486, 0.048553200703071765, 0.06693633920873568, 0.0867390113454319, 0.08051368886662098, 0.10054022554837541, 0.0883231448825097, 0.10084729490631614, 0.03213800641572973, 0.0668054657327169, 0.05538523168041022, 0.10264197624923327, 0.06381740285536402, 0.09170748753029534, 0.055701834410138144, 0.05008026791513282, 0.13441908181404666, 0.06739718739198322, 0.07190721403507327, 0.0822350786846878, 0.05365405323650725, 0.06187441373111268, 0.1323035700772885, 0.08496535089549614, 0.03642853394200814, 0.0737931758911769, 0.07627145275960659, 0.07983122458120925, 0.0657885138706398, 0.07780111527612868, 0.03729487849142443, 0.05678285681057087, 0.039862636521001554, 0.03011156872461903, 0.09785010917591634, 0.08993521839705583, 0.05278511182448778, 0.04454835717804953, 0.11858460477843706, 0.07602143227627385, 0.08581216556306046, 0.030513937372505705, 0.07279904482677174, 0.09032960116346765, 0.05101748431459892, 0.07149508879524291, 0.031290810402705635, 0.05954585467115424, 0.04439635209782135, 0.06288376925051432, 0.0901347091758613, 0.03997985328512288, 0.1036327231750934, 0.051072731726861345, 0.08638694117420355, 0.06211867539261802, 0.09173101510165842, 0.05562221232393488, 0.055223579997423035, 0.06297283795457138, 0.04919173960387073, 0.08369683609042253, 0.09438930886671643, 0.03554971360797, 0.06795382531697984, 0.05762971126233689, 0.05578267710624021, 0.06702430745289359, 0.11532341990156589, 0.06117613527393369, 0.10331237431708329, 0.06632768859655591, 0.13638418884386536, 0.024427000811794723, 0.04834320892655654, 0.0784350599363369, 0.034395369734042336, 0.15592521461876788, 0.04418124201471403, 0.050086126019421334, 0.12375912731195983, 0.05979888800283821, 0.036272161700963514, 0.029782020921314805, 0.1108072092464546, 0.14606746181746139, 0.09990218976166124, 0.07837962190393893, 0.05217624489072263, 0.11480192210792195, 0.09044929770656171, 0.06575389333954594, 0.042734215141508394, 0.11354445151748188, 0.10475361881766698, 0.0150162032547347, 0.11154280892609461, 0.06960796255144018, 0.07557412954108729, 0.0271909173036084, 0.08004546128821782, 0.05936048981812658, 0.0423302303736506, 0.08225688325145716, 0.12698719866910277, 0.07297179094252816, 0.06786284021035509, 0.07180501566967804, 0.10730190715977152, 0.025461608487947394, 0.020592945601364918, 0.05890924448559218, 0.07175681727294657]\n"
          ]
        }
      ]
    },
    {
      "cell_type": "markdown",
      "metadata": {
        "id": "ur7SqyVGN_IY"
      },
      "source": [
        "## Подсказки по размерностям\n",
        "\n",
        "### Forward\n",
        "\n",
        "- z1 - первое линейное преобразование - (BATCH_SIZE, INNER_FEATURES)\n",
        "- a1 - Применение нелинейности - (BATCH_SIZE, INNER_FEATURES)\n",
        "- z2 - второе нелинейное преобразование - (BATCH_SIZE, 1)\n",
        "- pred or A2- сигмоида - (BATCH_SIZE, 1)\n",
        "- loss - функция потерь - скаляр\n",
        "\n",
        "### Backward\n",
        "\n",
        "- d_BCE/d_pred - градиент функции потерь по pred - (BATCH_SIZE, 1)\n",
        "- d_pred/dz2 - градиент сигмоиды по z2 - (BATCH_SIZE, 1)\n",
        "- dz2/da1 - градиент линейного преобразования по a1 - (BATCH_SIZE, INNER_FEATURES)\n",
        "- dz2/dw2 - градиент линейного преобразования по w2 - (INNER_FEATURES, 1)\n",
        "- dz2/db2 - градиент линейного преобразования по b2 - (1,)\n",
        "- da1/dz1 - градиент нелинейной функции по z1 - (BATCH_SIZE, INNER_FEATURES)\n",
        "- dz1/dw1 - градиент линейного преобразования по w1 - (IN_FEATURES, INNER_FEATURES)\n",
        "- dz1/db1 - градиент линейного преобразования по b1 - (INNER_FEATURES,)"
      ]
    },
    {
      "cell_type": "markdown",
      "metadata": {
        "id": "ihOoASMAN_Ia"
      },
      "source": [
        "и график нарисуйте"
      ]
    },
    {
      "cell_type": "code",
      "metadata": {
        "id": "CwRzXKRNN_Ic",
        "outputId": "f4d0b6fb-fc21-4626-9d42-5c294fede495",
        "colab": {
          "base_uri": "https://localhost:8080/",
          "height": 564
        }
      },
      "source": [
        "plt.figure(figsize=(7, 6))\n",
        "plt.plot(losses)\n",
        "plt.grid()\n",
        "plt.title('Training process')\n",
        "plt.xlabel('Iterations')\n",
        "plt.ylabel('Loss function');"
      ],
      "execution_count": 68,
      "outputs": [
        {
          "output_type": "display_data",
          "data": {
            "text/plain": [
              "<Figure size 700x600 with 1 Axes>"
            ],
            "image/png": "[encoded data removed]"
          },
          "metadata": {}
        }
      ]
    },
    {
      "cell_type": "markdown",
      "metadata": {
        "id": "axU2DnJ1IT1J"
      },
      "source": [
        "# Тестирование"
      ]
    },
    {
      "cell_type": "markdown",
      "metadata": {
        "id": "4sd8o1ZbIEXH"
      },
      "source": [
        "А как это тестировать? Да, очень просто нужно просто выполнять форвард без бэкворда, то есть последовательно применять преобразования с обученными весами"
      ]
    },
    {
      "cell_type": "code",
      "metadata": {
        "id": "7DKeGWwzIliO",
        "colab": {
          "base_uri": "https://localhost:8080/"
        },
        "outputId": "4cb3742d-00b8-4b66-bec5-18a4ca875dad"
      },
      "source": [
        "losses_test = []\n",
        "predicted = []\n",
        "true_lbls = []\n",
        "\n",
        "for x, y in test_loader:\n",
        "\n",
        "  x = x.view(x.shape[0], -1).numpy()\n",
        "  y = np.expand_dims(y.numpy(), 1)\n",
        "\n",
        "  h1 = x.dot(w1) + b1 #переход в одномерное пространство\n",
        "  p = 1/(1+np.exp(-h1)) #преобразование в \"вероятности\"\n",
        "\n",
        "  bce = (-np.sum(np.multiply(np.log(p), y) + np.multiply((1 - y), np.log(1 - p)))) / batch_size\n",
        "  #расчет энтропии с усреднением по размеру бача\n",
        "\n",
        "  losses_test.append(bce)\n",
        "  predicted.extend(p)\n",
        "  true_lbls.extend(y)"
      ],
      "execution_count": 69,
      "outputs": [
        {
          "output_type": "stream",
          "name": "stderr",
          "text": [
            "<ipython-input-69-3856c042f1b2>:13: RuntimeWarning: divide by zero encountered in log\n",
            "  bce = (-np.sum(np.multiply(np.log(p), y) + np.multiply((1 - y), np.log(1 - p)))) / batch_size\n"
          ]
        }
      ]
    },
    {
      "cell_type": "markdown",
      "metadata": {
        "id": "259SOuP5K2HR"
      },
      "source": [
        "Проверим, что для каждого семпла у нас есть предсказание"
      ]
    },
    {
      "cell_type": "code",
      "metadata": {
        "id": "J3NQGFxfJY-4",
        "outputId": "a213d41e-29bd-4dc5-c0fe-1db447a158a1",
        "colab": {
          "base_uri": "https://localhost:8080/"
        }
      },
      "source": [
        "print(len(predicted), len(true_lbls))"
      ],
      "execution_count": 70,
      "outputs": [
        {
          "output_type": "stream",
          "name": "stdout",
          "text": [
            "1920 1920\n"
          ]
        }
      ]
    },
    {
      "cell_type": "markdown",
      "metadata": {
        "id": "xWJ3fjLhK9z4"
      },
      "source": [
        "Теперь применим стандартную Ф меру и оценим нашу модель"
      ]
    },
    {
      "cell_type": "code",
      "metadata": {
        "id": "BbD-n9rVJlBe",
        "outputId": "62fffea3-f9c7-4f32-8f7a-01b8ae5357cf",
        "colab": {
          "base_uri": "https://localhost:8080/"
        }
      },
      "source": [
        "from sklearn.metrics import f1_score\n",
        "pred = np.array([round(i[0]) for i in predicted])\n",
        "# У нас были вероятности а нужны классы поэтому просто округлим каждое значени и получим лейблы\n",
        "t_lbls = np.array(true_lbls).squeeze() #снимем лишнюю размерность\n",
        "f1 = f1_score(pred, t_lbls, average='weighted')\n",
        "print('F1 score is equal to: {0:0.02f}'.format(f1))"
      ],
      "execution_count": 108,
      "outputs": [
        {
          "output_type": "stream",
          "name": "stdout",
          "text": [
            "F1 score is equal to: 0.97\n"
          ]
        }
      ]
    },
    {
      "cell_type": "markdown",
      "metadata": {
        "id": "vMxfUk9DLfNx"
      },
      "source": [
        "Сделайте тоже самое для своей модели..."
      ]
    },
    {
      "cell_type": "code",
      "source": [
        "print(len(my_predicted), len(my_true_labels))"
      ],
      "metadata": {
        "colab": {
          "base_uri": "https://localhost:8080/"
        },
        "id": "MO73slk83sL4",
        "outputId": "9ef75f53-3201-4b43-dd7c-d5d57a0ba881"
      },
      "execution_count": 109,
      "outputs": [
        {
          "output_type": "stream",
          "name": "stdout",
          "text": [
            "36864 36864\n"
          ]
        }
      ]
    },
    {
      "cell_type": "code",
      "metadata": {
        "id": "plkig1rcLmG_",
        "colab": {
          "base_uri": "https://localhost:8080/"
        },
        "outputId": "c08795b5-fa75-460e-f5fe-fb4003b134f6"
      },
      "source": [
        "my_pred = np.array([round(i[0]) for i in my_predicted])\n",
        "true_labels = np.array(my_true_labels).squeeze()\n",
        "my_f1 = f1_score(my_pred, true_labels, average='weighted')\n",
        "print('F1 score is equal to: {0:0.02f}'.format(my_f1))"
      ],
      "execution_count": 110,
      "outputs": [
        {
          "output_type": "stream",
          "name": "stdout",
          "text": [
            "F1 score is equal to: 0.97\n"
          ]
        }
      ]
    },
    {
      "cell_type": "markdown",
      "metadata": {
        "id": "zHg6S-QgN_Mm"
      },
      "source": [
        "\n",
        "# Немного торча"
      ]
    },
    {
      "cell_type": "code",
      "metadata": {
        "id": "rWON-EQvN_Mn"
      },
      "source": [
        "import torch"
      ],
      "execution_count": 73,
      "outputs": []
    },
    {
      "cell_type": "markdown",
      "metadata": {
        "id": "MYyJMcmQN_Mq"
      },
      "source": [
        "### Мы можем определить нашу модель как последовательность уже существующих слоев, как в керасе"
      ]
    },
    {
      "cell_type": "code",
      "metadata": {
        "id": "7WkLbwyAN_Mr",
        "outputId": "23d85e59-bc45-45bf-dc8a-51a368189996",
        "colab": {
          "base_uri": "https://localhost:8080/"
        }
      },
      "source": [
        "model = torch.nn.Sequential()\n",
        "\n",
        "model.add_module(name='linear_1', module=torch.nn.Linear(in_features=784, out_features=256))\n",
        "model.add_module(name='relu', module=torch.nn.ReLU())\n",
        "model.add_module(name='linear_2', module=torch.nn.Linear(in_features=256, out_features=1))\n",
        "model.add_module(name='sigmoid', module=torch.nn.Sigmoid())\n",
        "\n",
        "model"
      ],
      "execution_count": 74,
      "outputs": [
        {
          "output_type": "execute_result",
          "data": {
            "text/plain": [
              "Sequential(\n",
              "  (linear_1): Linear(in_features=784, out_features=256, bias=True)\n",
              "  (relu): ReLU()\n",
              "  (linear_2): Linear(in_features=256, out_features=1, bias=True)\n",
              "  (sigmoid): Sigmoid()\n",
              ")"
            ]
          },
          "metadata": {},
          "execution_count": 74
        }
      ]
    },
    {
      "cell_type": "markdown",
      "metadata": {
        "id": "xFnSynhmN_Mw"
      },
      "source": [
        "### Либо так"
      ]
    },
    {
      "cell_type": "code",
      "metadata": {
        "id": "NjBXbnSNN_Mx",
        "outputId": "c1faf363-188b-4a22-da9a-e914d9505fed",
        "colab": {
          "base_uri": "https://localhost:8080/"
        }
      },
      "source": [
        "model = torch.nn.Sequential(\n",
        "    torch.nn.Linear(in_features=784, out_features=256),\n",
        "    torch.nn.ReLU(),\n",
        "    torch.nn.Linear(in_features=256, out_features=1),\n",
        "    torch.nn.Sigmoid()\n",
        ")\n",
        "\n",
        "model"
      ],
      "execution_count": 75,
      "outputs": [
        {
          "output_type": "execute_result",
          "data": {
            "text/plain": [
              "Sequential(\n",
              "  (0): Linear(in_features=784, out_features=256, bias=True)\n",
              "  (1): ReLU()\n",
              "  (2): Linear(in_features=256, out_features=1, bias=True)\n",
              "  (3): Sigmoid()\n",
              ")"
            ]
          },
          "metadata": {},
          "execution_count": 75
        }
      ]
    },
    {
      "cell_type": "markdown",
      "metadata": {
        "id": "MKOnBBifN_M1"
      },
      "source": [
        "## А вот для чего нужно было писать в домашке классы\n",
        "## Для определения своих моделей/слоев/чего вам захочется нам нужно сделать такую структуру"
      ]
    },
    {
      "cell_type": "code",
      "metadata": {
        "id": "iNXM6WnUN_M9"
      },
      "source": [
        "# наследуемся от класса torch.nn.Module\n",
        "class MLP(torch.nn.Module):\n",
        "\n",
        "    # определяем метод __init__\n",
        "    # он нужен для того, чтобы мы могли определить нужные нам слои, веса, сохраняемые операции\n",
        "    #\n",
        "    # передаем ссылку на самого себя первым параметром\n",
        "    #\n",
        "    # определяем любые другие передаваемые аргументы\n",
        "    # могут быть чем угодно: числа, словари, другие слои, другие модели и вообще все что угодно\n",
        "    #\n",
        "    def __init__(self, in_features, inner_features, out_features):\n",
        "\n",
        "        # Главная задача этого метода - возможность использования в классе потомке, методов класса-родителя\n",
        "        # Вызываем __init__ родителя - torch.nn.Module\n",
        "        super().__init__()\n",
        "\n",
        "        # определяем слои и все что захотим сохранять/использовать\n",
        "        self.linear_1 = torch.nn.Linear(in_features=in_features, out_features=inner_features)\n",
        "        self.non_linear_function = torch.nn.ReLU()\n",
        "        self.linear_2 = torch.nn.Linear(in_features=inner_features, out_features=out_features)\n",
        "        self.sigmoid = torch.nn.Sigmoid()\n",
        "\n",
        "    # нам нужно обязательно реализовать метод forward\n",
        "    # это то, что нашей модели нужно делать, как оперировать с входными данными, как рассчитывать\n",
        "    # метод backward нам не нужно реализовывать, потому что в торче есть автоматическое дифференцирование\n",
        "    # главное, чтобы наши операции были дифференцируемы\n",
        "    # некоторые подробности можете узнать здесь:\n",
        "    # https://pytorch.org/tutorials/beginner/blitz/autograd_tutorial.html#sphx-glr-beginner-blitz-autograd-tutorial-py\n",
        "    # также список доступных дифференцируемых операций можете посмотреть здесь:\n",
        "    # https://pytorch.org/docs/stable/tensors.html\n",
        "    def forward(self, x):\n",
        "\n",
        "        # наша привычная схема\n",
        "        x = self.linear_1(x)\n",
        "        x = self.non_linear_function(x)\n",
        "        x = self.linear_2(x)\n",
        "        x = self.sigmoid(x)\n",
        "\n",
        "        return x\n",
        "\n",
        "    # мы также можем реализовать любые другие полезные нам методы внутри класса"
      ],
      "execution_count": 76,
      "outputs": []
    },
    {
      "cell_type": "code",
      "metadata": {
        "id": "Ftetvx8MN_NA"
      },
      "source": [
        "# определяем нашу модель\n",
        "model = MLP(in_features=784, inner_features=256, out_features=1)"
      ],
      "execution_count": 77,
      "outputs": []
    },
    {
      "cell_type": "code",
      "metadata": {
        "id": "G3zivrXiN_ND",
        "scrolled": true,
        "outputId": "de66779e-e972-4545-d08c-e4398a67bfcc",
        "colab": {
          "base_uri": "https://localhost:8080/"
        }
      },
      "source": [
        "model"
      ],
      "execution_count": 78,
      "outputs": [
        {
          "output_type": "execute_result",
          "data": {
            "text/plain": [
              "MLP(\n",
              "  (linear_1): Linear(in_features=784, out_features=256, bias=True)\n",
              "  (non_linear_function): ReLU()\n",
              "  (linear_2): Linear(in_features=256, out_features=1, bias=True)\n",
              "  (sigmoid): Sigmoid()\n",
              ")"
            ]
          },
          "metadata": {},
          "execution_count": 78
        }
      ]
    },
    {
      "cell_type": "code",
      "metadata": {
        "id": "pa4BG_t_N_NG",
        "outputId": "b3111766-8c50-4dec-df88-839aacca28f3",
        "colab": {
          "base_uri": "https://localhost:8080/"
        }
      },
      "source": [
        "# можем посмотреть веса\n",
        "model.linear_1.weight.shape"
      ],
      "execution_count": 79,
      "outputs": [
        {
          "output_type": "execute_result",
          "data": {
            "text/plain": [
              "torch.Size([256, 784])"
            ]
          },
          "metadata": {},
          "execution_count": 79
        }
      ]
    },
    {
      "cell_type": "code",
      "metadata": {
        "id": "n2hPqcyxN_NQ"
      },
      "source": [
        "# еще нам нужно задать функцию потерь\n",
        "criterion = torch.nn.BCELoss()"
      ],
      "execution_count": 80,
      "outputs": []
    },
    {
      "cell_type": "code",
      "metadata": {
        "id": "IEpYutCqN_Na"
      },
      "source": [
        "# и оптимизатор, куда нужно передать параметры модели\n",
        "# параметры модели можно взять методом класса .parameters()\n",
        "optimizer = torch.optim.SGD(params=model.parameters(), lr=0.01)"
      ],
      "execution_count": 81,
      "outputs": []
    },
    {
      "cell_type": "code",
      "metadata": {
        "id": "V-ssB6KsN_Nf",
        "outputId": "cd31ca9e-95a6-4b56-89df-5373dad91b29",
        "colab": {
          "base_uri": "https://localhost:8080/"
        }
      },
      "source": [
        "# можем посмотреть на параметры нашей модели\n",
        "params = list(model.parameters())\n",
        "params"
      ],
      "execution_count": 82,
      "outputs": [
        {
          "output_type": "execute_result",
          "data": {
            "text/plain": [
              "[Parameter containing:\n",
              " tensor([[ 0.0325, -0.0056,  0.0251,  ..., -0.0217, -0.0236,  0.0147],\n",
              "         [ 0.0097,  0.0011, -0.0045,  ..., -0.0211, -0.0223, -0.0169],\n",
              "         [ 0.0089, -0.0069, -0.0010,  ...,  0.0331, -0.0096, -0.0282],\n",
              "         ...,\n",
              "         [ 0.0046, -0.0067,  0.0186,  ..., -0.0309,  0.0019, -0.0046],\n",
              "         [-0.0029, -0.0175, -0.0126,  ...,  0.0127, -0.0185,  0.0332],\n",
              "         [-0.0091,  0.0250,  0.0103,  ...,  0.0075, -0.0036,  0.0064]],\n",
              "        requires_grad=True),\n",
              " Parameter containing:\n",
              " tensor([ 1.9351e-02,  2.7403e-02,  1.1500e-02, -1.4561e-02, -1.9556e-02,\n",
              "          8.5957e-03, -2.0460e-02,  1.8703e-02,  2.4943e-02, -3.6938e-03,\n",
              "          2.5246e-02, -7.1322e-03, -1.2907e-02, -1.9327e-03,  2.0783e-02,\n",
              "         -7.8466e-03, -2.1991e-02, -1.7805e-02, -1.3393e-04, -9.3420e-04,\n",
              "          2.1264e-02,  3.3799e-02, -2.3221e-02,  2.1688e-03,  1.8485e-02,\n",
              "          4.2495e-03, -2.9169e-03, -3.5215e-02,  2.6631e-02, -7.2890e-03,\n",
              "          7.3844e-03, -9.6665e-03, -2.3634e-02,  2.6999e-02, -2.5115e-02,\n",
              "         -2.4528e-02, -1.8501e-03, -2.6200e-02, -2.5935e-02,  2.9715e-02,\n",
              "         -3.1326e-02, -2.6662e-03, -6.1415e-03,  2.4276e-02,  2.4750e-02,\n",
              "         -3.2981e-02, -3.3057e-02, -3.2104e-02, -2.9988e-02,  1.3061e-02,\n",
              "         -2.2320e-02, -1.8659e-02,  2.3758e-02, -2.7950e-02,  1.7420e-02,\n",
              "         -2.2497e-02, -2.7551e-02, -1.9393e-02, -2.6746e-02, -6.8858e-03,\n",
              "          1.8219e-02, -2.8305e-02, -8.8415e-03, -2.2698e-02, -2.0676e-02,\n",
              "         -2.5159e-02,  2.8376e-02, -3.3343e-02,  2.3623e-02,  1.2776e-02,\n",
              "         -1.0009e-03, -5.9315e-03, -1.2371e-02,  2.4578e-02, -2.4968e-02,\n",
              "          2.9428e-02, -3.1253e-02, -2.5991e-02,  1.5838e-02,  1.8536e-02,\n",
              "          2.9831e-02,  3.4764e-02, -4.6403e-03,  7.1954e-03,  2.0258e-02,\n",
              "          1.5267e-03, -3.6194e-03,  2.9726e-02, -5.4448e-04,  8.6252e-03,\n",
              "          3.4817e-02,  8.3060e-03,  2.4579e-02,  2.8004e-02,  2.3122e-02,\n",
              "         -3.3649e-02, -3.0117e-02,  2.9665e-02, -8.5270e-03,  2.8045e-02,\n",
              "          2.2282e-03, -3.4404e-02,  2.2471e-02,  1.1771e-02,  2.0170e-02,\n",
              "          2.6780e-02,  1.7835e-02, -2.6388e-02, -2.5523e-02, -7.1625e-03,\n",
              "          2.4794e-02, -1.8031e-02,  8.0271e-03, -2.9819e-03,  2.5248e-02,\n",
              "          3.3779e-02,  2.3927e-03, -2.8188e-02, -9.2209e-03, -3.3556e-02,\n",
              "          1.9899e-02,  1.3182e-03,  8.4947e-03,  1.1145e-03,  1.8003e-02,\n",
              "          2.5901e-02,  2.9433e-02,  5.1712e-03,  2.0101e-02,  3.3968e-02,\n",
              "         -2.8782e-03, -2.5502e-02,  3.4440e-02, -2.1999e-02, -6.1667e-04,\n",
              "          1.3336e-02,  2.1428e-02, -1.1683e-02,  1.7093e-02, -3.0008e-02,\n",
              "          1.6395e-02,  2.7682e-02,  3.4405e-02, -3.2466e-02, -3.0134e-02,\n",
              "         -1.7357e-02,  1.2154e-02,  8.0787e-03,  2.1958e-02,  9.1481e-03,\n",
              "         -1.4649e-02, -1.2231e-02, -2.9832e-02,  2.9870e-02,  1.2709e-02,\n",
              "          1.1812e-02, -1.6223e-02, -4.3612e-03, -9.6596e-03,  3.4187e-02,\n",
              "         -9.0293e-03,  7.0243e-03,  9.4261e-03,  4.7728e-03, -7.6768e-03,\n",
              "         -2.7431e-02, -2.1539e-04, -1.8341e-02,  1.0377e-02, -1.4424e-02,\n",
              "          2.7066e-02, -8.3011e-03,  2.4844e-02,  2.4391e-02, -1.8563e-02,\n",
              "         -7.1078e-03, -2.4947e-02, -8.7506e-04,  9.4286e-03, -1.8909e-02,\n",
              "          2.2883e-02,  2.4448e-02,  1.0999e-02, -3.2985e-02,  1.1474e-02,\n",
              "          2.9236e-02,  1.0971e-03,  2.8691e-02, -3.0203e-02, -1.8869e-02,\n",
              "          1.7271e-02, -2.6889e-02, -1.5900e-02, -1.8319e-02, -3.2279e-02,\n",
              "          2.8209e-02, -4.8183e-03,  2.7552e-02, -1.4999e-03, -4.5525e-03,\n",
              "         -1.0048e-04, -1.7662e-02, -1.5242e-02,  3.3979e-02, -2.0467e-02,\n",
              "         -2.4286e-02,  1.9698e-02, -1.7877e-02,  3.3059e-02,  9.3004e-03,\n",
              "          3.5225e-02, -2.1261e-04,  3.1554e-02,  2.2480e-02,  1.8176e-02,\n",
              "         -1.3212e-02,  2.6254e-02,  4.0345e-03,  3.5058e-02,  1.3501e-02,\n",
              "          3.0779e-03, -2.5871e-02,  1.9051e-02, -1.1598e-02, -2.4477e-02,\n",
              "          3.0733e-02, -2.8781e-06, -4.8822e-03, -1.2953e-02, -2.0798e-02,\n",
              "         -3.2387e-02, -2.2598e-02,  2.0080e-02,  1.3281e-02,  1.7881e-02,\n",
              "          2.4100e-02, -3.9017e-04,  1.5759e-02,  2.1484e-03, -2.1138e-02,\n",
              "          5.7108e-03,  2.8494e-02, -8.9016e-03, -2.9852e-02, -7.9867e-03,\n",
              "          1.5802e-02,  1.8713e-02, -2.2497e-02, -2.1661e-02,  2.8737e-02,\n",
              "          9.4611e-03, -4.4873e-03,  2.6906e-02, -3.5593e-02, -1.4309e-02,\n",
              "         -1.6579e-02], requires_grad=True),\n",
              " Parameter containing:\n",
              " tensor([[ 0.0193,  0.0249,  0.0058, -0.0024, -0.0101, -0.0106,  0.0412, -0.0583,\n",
              "          -0.0138,  0.0616, -0.0606, -0.0577, -0.0031,  0.0113, -0.0524, -0.0359,\n",
              "           0.0223,  0.0564,  0.0589, -0.0176,  0.0371,  0.0623, -0.0406,  0.0203,\n",
              "           0.0391, -0.0067,  0.0019, -0.0173, -0.0408, -0.0058,  0.0312, -0.0386,\n",
              "          -0.0503,  0.0480,  0.0595, -0.0373, -0.0040,  0.0408,  0.0157,  0.0295,\n",
              "           0.0501,  0.0314,  0.0021,  0.0043,  0.0127, -0.0471, -0.0263, -0.0378,\n",
              "          -0.0225, -0.0234,  0.0603, -0.0439,  0.0281, -0.0476,  0.0584,  0.0539,\n",
              "           0.0018, -0.0308,  0.0582,  0.0045,  0.0452,  0.0373, -0.0525,  0.0217,\n",
              "           0.0107, -0.0525,  0.0481,  0.0043, -0.0298,  0.0390, -0.0121,  0.0582,\n",
              "           0.0278,  0.0028, -0.0012,  0.0513, -0.0029,  0.0167, -0.0537, -0.0624,\n",
              "          -0.0068,  0.0150,  0.0145, -0.0500,  0.0342,  0.0224,  0.0465, -0.0597,\n",
              "          -0.0363,  0.0220, -0.0544,  0.0099,  0.0191, -0.0334,  0.0138, -0.0557,\n",
              "          -0.0477,  0.0298, -0.0516, -0.0072, -0.0219,  0.0611, -0.0621, -0.0131,\n",
              "           0.0367, -0.0257,  0.0470,  0.0292,  0.0031,  0.0526, -0.0145, -0.0288,\n",
              "           0.0493, -0.0248, -0.0049, -0.0025, -0.0408, -0.0257,  0.0013, -0.0298,\n",
              "           0.0244,  0.0041, -0.0620, -0.0498, -0.0448,  0.0260,  0.0334,  0.0507,\n",
              "           0.0080, -0.0605,  0.0157, -0.0053, -0.0235, -0.0181,  0.0477, -0.0345,\n",
              "           0.0410, -0.0281,  0.0275, -0.0527,  0.0597,  0.0452, -0.0113, -0.0069,\n",
              "          -0.0387,  0.0307, -0.0125,  0.0218,  0.0103,  0.0325, -0.0543,  0.0583,\n",
              "           0.0086,  0.0484,  0.0206,  0.0105, -0.0561, -0.0341, -0.0336, -0.0305,\n",
              "          -0.0440,  0.0072,  0.0119, -0.0008, -0.0432,  0.0539,  0.0154, -0.0393,\n",
              "          -0.0479,  0.0197, -0.0010,  0.0244, -0.0069,  0.0225,  0.0086, -0.0155,\n",
              "          -0.0476, -0.0434, -0.0152, -0.0429,  0.0043,  0.0589,  0.0106,  0.0008,\n",
              "          -0.0041, -0.0469,  0.0046,  0.0532, -0.0254,  0.0083,  0.0080,  0.0476,\n",
              "          -0.0336, -0.0270, -0.0604,  0.0222,  0.0026, -0.0083, -0.0484,  0.0433,\n",
              "           0.0521, -0.0264,  0.0149,  0.0480,  0.0459, -0.0080,  0.0099, -0.0512,\n",
              "           0.0172, -0.0078,  0.0281, -0.0119, -0.0487, -0.0208,  0.0312,  0.0279,\n",
              "          -0.0483,  0.0512,  0.0083,  0.0277,  0.0297, -0.0453,  0.0483, -0.0557,\n",
              "           0.0005, -0.0306,  0.0577,  0.0181, -0.0050,  0.0421, -0.0431, -0.0118,\n",
              "           0.0332, -0.0016, -0.0297,  0.0035,  0.0371, -0.0309, -0.0364, -0.0500,\n",
              "          -0.0269,  0.0343,  0.0209,  0.0125,  0.0021,  0.0306,  0.0036, -0.0328,\n",
              "           0.0065,  0.0513, -0.0382, -0.0131,  0.0159, -0.0495,  0.0044, -0.0037]],\n",
              "        requires_grad=True),\n",
              " Parameter containing:\n",
              " tensor([0.0410], requires_grad=True)]"
            ]
          },
          "metadata": {},
          "execution_count": 82
        }
      ]
    },
    {
      "cell_type": "markdown",
      "metadata": {
        "id": "5dnDbvw0N_No"
      },
      "source": [
        "# Обучим нашу модель"
      ]
    },
    {
      "cell_type": "code",
      "metadata": {
        "id": "O8ayasdLN_Np"
      },
      "source": [
        "# давайте сохранять значения нашей функции потерь каждую итерацию обучения\n",
        "losses = []\n",
        "\n",
        "# эта штука все еще отдает нам батчи данных\n",
        "# мы поговорим про нее позже\n",
        "for x, y in train_loader:\n",
        "\n",
        "    x = x.view(x.shape[0], -1)\n",
        "    y = y.unsqueeze(1).float()\n",
        "\n",
        "    # обновим наши градиенты\n",
        "    # будем делать это каждую итерацию обучения\n",
        "    # потому что торч сохраняет в себе все градиенты пока не удалите таким образом рассчитанные градиенты\n",
        "    #\n",
        "    # НЕОБЯЗАТЕЛЬНЫЕ ДЕТАЛИ\n",
        "    # функция сохранения градиентов нужна для аккамуляции градиентов\n",
        "    # например, когда нам не хватает памяти на большой батч\n",
        "    # мы можем несколько раз прогнать forward на разных батчах\n",
        "    # наши градиенты будут сохраняться\n",
        "    # и только потом обновить через несколько итераций forward обновить наши веса\n",
        "    # таким образом у нас получается больше батч\n",
        "    #\n",
        "    optimizer.zero_grad()\n",
        "\n",
        "    #\n",
        "    # предсказание нашей модели\n",
        "    # здесь торч сам сохраняет необходимую информацию\n",
        "    # чтобы понять эту логику у нас как раз и была часть домашки про собственные классы\n",
        "    #\n",
        "    # торч строит динамический граф вычислений\n",
        "    # то есть строит граф по тем операциям, которые вы определили в методе forward\n",
        "    #\n",
        "    # то есть торч понимает, что вы сначала применили линейное преобразование\n",
        "    # знает, где лежат веса для этого линейного преобразования\n",
        "    # знает, что вы затем применили релу\n",
        "    # затем опять линейное преобразование\n",
        "    # затем сигмоиду\n",
        "    # и вот таким образом торч выстроил граф\n",
        "    # который нужен будет для backpropogation\n",
        "    #\n",
        "    pred = model(x)\n",
        "\n",
        "    #\n",
        "    # рассчитываем функцию потерь, добавляя в наш граф вычислений этот узел\n",
        "    #\n",
        "    loss = criterion(pred, y.float())\n",
        "\n",
        "    #\n",
        "    # вызываем метод backward() от нашей функции потерь (это крайний узел нашего графа вычислений)\n",
        "    # этот метод проходит от конца графа в начало, вычисляя необходимые градиенты\n",
        "    # передаем градиенты на следующие узлы\n",
        "    # для весов сохраняет\n",
        "    #\n",
        "    # то есть это почти то же самое, что мы делали в домашке с классами\n",
        "    #\n",
        "    loss.backward()\n",
        "\n",
        "    #\n",
        "    # теперь мы знаем необходимые градиенты и можем обновить веса с помощью градиентного спуска\n",
        "    #\n",
        "    optimizer.step()\n",
        "\n",
        "    #\n",
        "    # сохраним текущее значение функции потерь, чтобы потом могли посмотреть на график\n",
        "    # очень важный момент: нам нужно отсоединить значение нашей фунции потерь от графа вычислений\n",
        "    # чтобы граф не строился дальше на каждой итерации обучения\n",
        "    # так мы рано или поздно переполним память\n",
        "    # поэтому вызываем этот метод\n",
        "    # работает для скаляров\n",
        "    #\n",
        "    # для тензоров работает метод .tolist()\n",
        "    #\n",
        "    current_loss_value = loss.item()\n",
        "    losses.append(loss.item())"
      ],
      "execution_count": 83,
      "outputs": []
    },
    {
      "cell_type": "code",
      "metadata": {
        "id": "KhopLN33N_Nw"
      },
      "source": [
        "# Одна эпоха прошла"
      ],
      "execution_count": 84,
      "outputs": []
    },
    {
      "cell_type": "code",
      "metadata": {
        "id": "SIGFnAeMN_Nz",
        "outputId": "e2d0f3c2-182c-4048-f5cf-1bb8361e8c37",
        "colab": {
          "base_uri": "https://localhost:8080/",
          "height": 564
        }
      },
      "source": [
        "plt.figure(figsize=(7, 6))\n",
        "plt.plot(losses)\n",
        "plt.grid()\n",
        "plt.title('Training process')\n",
        "plt.xlabel('Iterations')\n",
        "plt.ylabel('Loss function');"
      ],
      "execution_count": 87,
      "outputs": [
        {
          "output_type": "display_data",
          "data": {
            "text/plain": [
              "<Figure size 700x600 with 1 Axes>"
            ],
            "image/png": "[encoded data removed]"
          },
          "metadata": {}
        }
      ]
    },
    {
      "cell_type": "markdown",
      "metadata": {
        "id": "8oBFJlYrN_N3"
      },
      "source": [
        "# Теперь мы можем что-то предсказать"
      ]
    },
    {
      "cell_type": "code",
      "metadata": {
        "id": "pYQ-5cXnN_N4"
      },
      "source": [
        "for x, y in test_loader:\n",
        "\n",
        "    x = x.view(x.shape[0], -1)\n",
        "    y = y.unsqueeze(1).float()\n",
        "\n",
        "    # чтобы не ходить по всему тестовому датасету, прекратим ходить после первой итерации\n",
        "    break"
      ],
      "execution_count": 88,
      "outputs": []
    },
    {
      "cell_type": "code",
      "metadata": {
        "id": "Rb3ImXPNN_N_",
        "outputId": "64efaf1b-a57f-440d-f802-aa9b8e132271",
        "colab": {
          "base_uri": "https://localhost:8080/"
        }
      },
      "source": [
        "x.shape"
      ],
      "execution_count": 89,
      "outputs": [
        {
          "output_type": "execute_result",
          "data": {
            "text/plain": [
              "torch.Size([128, 784])"
            ]
          },
          "metadata": {},
          "execution_count": 89
        }
      ]
    },
    {
      "cell_type": "code",
      "metadata": {
        "id": "5V_GO6_zN_OE",
        "outputId": "ff2327aa-b10e-4e45-f37b-e926203167a5",
        "colab": {
          "base_uri": "https://localhost:8080/"
        }
      },
      "source": [
        "y.shape"
      ],
      "execution_count": 90,
      "outputs": [
        {
          "output_type": "execute_result",
          "data": {
            "text/plain": [
              "torch.Size([128, 1])"
            ]
          },
          "metadata": {},
          "execution_count": 90
        }
      ]
    },
    {
      "cell_type": "code",
      "metadata": {
        "id": "_zHM8GRpN_OG",
        "outputId": "7986e150-e3dc-4c35-dc6b-e121fc8c234e",
        "colab": {
          "base_uri": "https://localhost:8080/"
        }
      },
      "source": [
        "# переходим в режим предсказания\n",
        "#\n",
        "# позже в курсе мы разберем зачем конкретно это нужно\n",
        "#\n",
        "# для искушенного нетерпеливого читателя: дропаут больше не дропаутит, батч норм больше не нормирует каждый батч\n",
        "# а использует накопленную статистику при обучении и тд\n",
        "#\n",
        "model.eval()"
      ],
      "execution_count": 91,
      "outputs": [
        {
          "output_type": "execute_result",
          "data": {
            "text/plain": [
              "MLP(\n",
              "  (linear_1): Linear(in_features=784, out_features=256, bias=True)\n",
              "  (non_linear_function): ReLU()\n",
              "  (linear_2): Linear(in_features=256, out_features=1, bias=True)\n",
              "  (sigmoid): Sigmoid()\n",
              ")"
            ]
          },
          "metadata": {},
          "execution_count": 91
        }
      ]
    },
    {
      "cell_type": "code",
      "metadata": {
        "id": "CT4N0ZAPN_OI"
      },
      "source": [
        "# этот контект позволяет не сохранять необходимую информацию для рассчета градиентов\n",
        "with torch.no_grad():\n",
        "\n",
        "    pred = model(x)"
      ],
      "execution_count": 92,
      "outputs": []
    },
    {
      "cell_type": "code",
      "metadata": {
        "id": "R48ZI_iJN_OK",
        "outputId": "6eca65f1-550b-4739-eaf7-f3c0220ebdc6",
        "colab": {
          "base_uri": "https://localhost:8080/"
        }
      },
      "source": [
        "pred.shape"
      ],
      "execution_count": 93,
      "outputs": [
        {
          "output_type": "execute_result",
          "data": {
            "text/plain": [
              "torch.Size([128, 1])"
            ]
          },
          "metadata": {},
          "execution_count": 93
        }
      ]
    },
    {
      "cell_type": "code",
      "metadata": {
        "id": "Azbcidg1N_OM"
      },
      "source": [
        "# избавимся от единичной размерности\n",
        "pred = pred.squeeze()\n",
        "y = y.squeeze()"
      ],
      "execution_count": 94,
      "outputs": []
    },
    {
      "cell_type": "code",
      "metadata": {
        "id": "L7zm8vzBN_OO",
        "outputId": "cfdb7629-34d1-49b6-d7f6-d7fc668cb8ca",
        "colab": {
          "base_uri": "https://localhost:8080/"
        }
      },
      "source": [
        "pred.shape"
      ],
      "execution_count": 95,
      "outputs": [
        {
          "output_type": "execute_result",
          "data": {
            "text/plain": [
              "torch.Size([128])"
            ]
          },
          "metadata": {},
          "execution_count": 95
        }
      ]
    },
    {
      "cell_type": "code",
      "metadata": {
        "id": "JBARJLDIN_OT"
      },
      "source": [
        "# таким образом из торчовых тензоров мы можем сделать нумпаевские массивы\n",
        "pred = pred.numpy()\n",
        "y = y.numpy()"
      ],
      "execution_count": 96,
      "outputs": []
    },
    {
      "cell_type": "code",
      "metadata": {
        "id": "8Y4gi0q7N_OZ",
        "outputId": "4ed70550-95b0-438a-b579-ce9c535a7da3",
        "colab": {
          "base_uri": "https://localhost:8080/"
        }
      },
      "source": [
        "y"
      ],
      "execution_count": 97,
      "outputs": [
        {
          "output_type": "execute_result",
          "data": {
            "text/plain": [
              "array([1., 1., 0., 1., 0., 0., 1., 1., 1., 0., 0., 1., 0., 1., 0., 1., 1.,\n",
              "       0., 1., 1., 1., 1., 0., 0., 0., 1., 1., 0., 1., 1., 1., 1., 1., 0.,\n",
              "       1., 0., 1., 0., 1., 0., 0., 0., 0., 0., 1., 1., 1., 0., 0., 1., 1.,\n",
              "       0., 1., 1., 1., 1., 0., 1., 1., 1., 0., 0., 0., 0., 1., 0., 0., 1.,\n",
              "       0., 0., 1., 0., 1., 0., 0., 1., 0., 0., 1., 1., 1., 1., 0., 1., 0.,\n",
              "       0., 0., 0., 0., 0., 1., 1., 0., 1., 0., 0., 0., 1., 0., 1., 0., 0.,\n",
              "       0., 0., 0., 1., 1., 1., 1., 0., 0., 0., 0., 0., 0., 1., 1., 0., 0.,\n",
              "       1., 0., 1., 1., 0., 1., 0., 0., 1.], dtype=float32)"
            ]
          },
          "metadata": {},
          "execution_count": 97
        }
      ]
    },
    {
      "cell_type": "code",
      "metadata": {
        "id": "QPlZdMfiN_Og",
        "outputId": "800380d2-2ff7-45b5-f4d8-fde926bcb438",
        "colab": {
          "base_uri": "https://localhost:8080/"
        }
      },
      "source": [
        "type(y)"
      ],
      "execution_count": 98,
      "outputs": [
        {
          "output_type": "execute_result",
          "data": {
            "text/plain": [
              "numpy.ndarray"
            ]
          },
          "metadata": {},
          "execution_count": 98
        }
      ]
    },
    {
      "cell_type": "code",
      "metadata": {
        "id": "Ck7Voa7HN_Ok"
      },
      "source": [
        "# бинаризируем наши предсказания\n",
        "pred[pred > 0.5] = 1\n",
        "pred[pred <= 0.5] = 0"
      ],
      "execution_count": 99,
      "outputs": []
    },
    {
      "cell_type": "code",
      "metadata": {
        "id": "Ts85uzXFN_Om",
        "outputId": "35ab73fb-596b-427e-e1e6-f2cb1b877bfc",
        "colab": {
          "base_uri": "https://localhost:8080/"
        }
      },
      "source": [
        "# посчитаем метрику на батче\n",
        "accuracy_score(y, pred)"
      ],
      "execution_count": 100,
      "outputs": [
        {
          "output_type": "execute_result",
          "data": {
            "text/plain": [
              "0.9609375"
            ]
          },
          "metadata": {},
          "execution_count": 100
        }
      ]
    },
    {
      "cell_type": "code",
      "metadata": {
        "id": "yoynJ1-2N_Op"
      },
      "source": [
        "# заново определим нашу модель и выучимся несколько эпох\n",
        "# будут уже новые параметры\n",
        "model = MLP(in_features=784, inner_features=256, out_features=1)\n",
        "\n",
        "criterion = torch.nn.BCELoss()\n",
        "# мы позже поговорим про этот оптимизационный алгоритм\n",
        "optimizer = torch.optim.Adam(params=model.parameters())"
      ],
      "execution_count": 101,
      "outputs": []
    },
    {
      "cell_type": "markdown",
      "metadata": {
        "id": "hzBgaRe7N_Os"
      },
      "source": [
        "# Типичный цикл обучения с кучей сохранений лоссов"
      ]
    },
    {
      "cell_type": "code",
      "metadata": {
        "id": "1zO6ruQbN_Ot",
        "outputId": "1a204de0-435a-4425-d58a-5df1a0698ada",
        "colab": {
          "base_uri": "https://localhost:8080/"
        }
      },
      "source": [
        "epochs = 10\n",
        "losses = []\n",
        "# нужно для early stopping, то есть трекать лучший лосс на валидации\n",
        "best_test_loss = 10.\n",
        "\n",
        "for n_epoch in range(epochs):\n",
        "\n",
        "    train_losses = []\n",
        "    test_losses = []\n",
        "    test_preds = []\n",
        "    test_targets = []\n",
        "\n",
        "    progress_bar = tqdm(total=len(train_loader.dataset), desc='Epoch {}'.format(n_epoch + 1))\n",
        "\n",
        "    for x, y in train_loader:\n",
        "\n",
        "        x = x.view(x.shape[0], -1)\n",
        "        y = y.unsqueeze(1).float()\n",
        "\n",
        "        optimizer.zero_grad()\n",
        "\n",
        "        pred = model(x)\n",
        "\n",
        "        loss = criterion(pred, y.float())\n",
        "\n",
        "        loss.backward()\n",
        "\n",
        "        optimizer.step()\n",
        "\n",
        "        train_losses.append(loss.item())\n",
        "        losses.append(loss.item())\n",
        "\n",
        "        progress_bar.set_postfix(train_loss = np.mean(losses[-100:]))\n",
        "\n",
        "        progress_bar.update(x.shape[0])\n",
        "\n",
        "    progress_bar.close()\n",
        "\n",
        "    for x, y in test_loader:\n",
        "\n",
        "        x = x.view(x.shape[0], -1)\n",
        "        y = y.unsqueeze(1).float()\n",
        "\n",
        "        with torch.no_grad():\n",
        "\n",
        "            pred = model(x)\n",
        "\n",
        "        test_preds.append(pred.numpy())\n",
        "        test_targets.append(y.numpy())\n",
        "\n",
        "        loss = criterion(pred, y)\n",
        "\n",
        "        test_losses.append(loss.item())\n",
        "\n",
        "    mean_test_loss = np.mean(test_losses)\n",
        "\n",
        "    print('Losses: train - {:.3f}, test = {:.3f}'.format(np.mean(train_losses), mean_test_loss))\n",
        "\n",
        "    test_preds = np.concatenate(test_preds)\n",
        "    test_preds = test_preds.squeeze()\n",
        "    test_targets = np.concatenate(test_targets).squeeze()\n",
        "\n",
        "    test_preds[test_preds > 0.5] = 1\n",
        "    test_preds[test_preds <= 0.5] = 0\n",
        "\n",
        "    accurary = accuracy_score(test_targets, test_preds)\n",
        "\n",
        "    print('Test: accuracy - {:.3f}'.format(accurary))\n",
        "\n",
        "    # как раз early stopping\n",
        "    # то есть: если наша функция потерь на валидационном датасете стала расти, то прекращаем обучение\n",
        "    # рост фунции потерь на валидационном датасете говорит о переобучении\n",
        "    # пожалуй, самый популярный метод валидации для нейронных сетей\n",
        "    if mean_test_loss < best_test_loss:\n",
        "        best_test_loss = mean_test_loss\n",
        "    else:\n",
        "        print('Early stopping')\n",
        "        break"
      ],
      "execution_count": 102,
      "outputs": [
        {
          "output_type": "stream",
          "name": "stderr",
          "text": [
            "Epoch 1:  99%|█████████▉| 12288/12396 [00:04<00:00, 2463.46it/s, train_loss=0.0688]\n"
          ]
        },
        {
          "output_type": "stream",
          "name": "stdout",
          "text": [
            "Losses: train - 0.069, test = 0.065\n",
            "Test: accuracy - 0.980\n"
          ]
        },
        {
          "output_type": "stream",
          "name": "stderr",
          "text": [
            "Epoch 2:  99%|█████████▉| 12288/12396 [00:06<00:00, 1780.73it/s, train_loss=0.0293]\n"
          ]
        },
        {
          "output_type": "stream",
          "name": "stdout",
          "text": [
            "Losses: train - 0.029, test = 0.032\n",
            "Test: accuracy - 0.989\n"
          ]
        },
        {
          "output_type": "stream",
          "name": "stderr",
          "text": [
            "Epoch 3:  99%|█████████▉| 12288/12396 [00:03<00:00, 3660.70it/s, train_loss=0.0209]\n"
          ]
        },
        {
          "output_type": "stream",
          "name": "stdout",
          "text": [
            "Losses: train - 0.020, test = 0.028\n",
            "Test: accuracy - 0.992\n"
          ]
        },
        {
          "output_type": "stream",
          "name": "stderr",
          "text": [
            "Epoch 4:  99%|█████████▉| 12288/12396 [00:03<00:00, 3602.16it/s, train_loss=0.0111]\n"
          ]
        },
        {
          "output_type": "stream",
          "name": "stdout",
          "text": [
            "Losses: train - 0.011, test = 0.026\n",
            "Test: accuracy - 0.992\n"
          ]
        },
        {
          "output_type": "stream",
          "name": "stderr",
          "text": [
            "Epoch 5:  99%|█████████▉| 12288/12396 [00:04<00:00, 3031.45it/s, train_loss=0.00639]\n"
          ]
        },
        {
          "output_type": "stream",
          "name": "stdout",
          "text": [
            "Losses: train - 0.006, test = 0.024\n",
            "Test: accuracy - 0.993\n"
          ]
        },
        {
          "output_type": "stream",
          "name": "stderr",
          "text": [
            "Epoch 6:  99%|█████████▉| 12288/12396 [00:03<00:00, 3686.44it/s, train_loss=0.00367]\n"
          ]
        },
        {
          "output_type": "stream",
          "name": "stdout",
          "text": [
            "Losses: train - 0.004, test = 0.021\n",
            "Test: accuracy - 0.993\n"
          ]
        },
        {
          "output_type": "stream",
          "name": "stderr",
          "text": [
            "Epoch 7:  99%|█████████▉| 12288/12396 [00:03<00:00, 3724.26it/s, train_loss=0.00323]\n"
          ]
        },
        {
          "output_type": "stream",
          "name": "stdout",
          "text": [
            "Losses: train - 0.003, test = 0.022\n",
            "Test: accuracy - 0.994\n",
            "Early stopping\n"
          ]
        }
      ]
    },
    {
      "cell_type": "code",
      "metadata": {
        "id": "U4URcBJPN_Ow",
        "outputId": "c672364d-2ed0-433e-8a62-58aa443027b2",
        "colab": {
          "base_uri": "https://localhost:8080/",
          "height": 564
        }
      },
      "source": [
        "plt.figure(figsize=(7, 6))\n",
        "plt.plot(losses)\n",
        "plt.grid()\n",
        "plt.title('Training process')\n",
        "plt.xlabel('Iterations')\n",
        "plt.ylabel('Loss function');"
      ],
      "execution_count": 104,
      "outputs": [
        {
          "output_type": "display_data",
          "data": {
            "text/plain": [
              "<Figure size 700x600 with 1 Axes>"
            ],
            "image/png": "[encoded data removed]"
          },
          "metadata": {}
        }
      ]
    },
    {
      "cell_type": "code",
      "source": [],
      "metadata": {
        "id": "_NlvXKSf2KtX"
      },
      "execution_count": null,
      "outputs": []
    }
  ]
}